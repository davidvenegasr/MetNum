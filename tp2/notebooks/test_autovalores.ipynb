{
 "cells": [
  {
   "cell_type": "code",
   "execution_count": 3,
   "metadata": {},
   "outputs": [
    {
     "output_type": "stream",
     "name": "stdout",
     "text": [
      "mkdir: cannot create directory ‘build’: File exists\n",
      "-- The C compiler identification is GNU 7.5.0\n",
      "-- The CXX compiler identification is GNU 7.5.0\n",
      "-- Check for working C compiler: /usr/bin/cc\n",
      "-- Check for working C compiler: /usr/bin/cc -- works\n",
      "-- Detecting C compiler ABI info\n",
      "-- Detecting C compiler ABI info - done\n",
      "-- Detecting C compile features\n",
      "-- Detecting C compile features - done\n",
      "-- Check for working CXX compiler: /usr/bin/c++\n",
      "-- Check for working CXX compiler: /usr/bin/c++ -- works\n",
      "-- Detecting CXX compiler ABI info\n",
      "-- Detecting CXX compiler ABI info - done\n",
      "-- Detecting CXX compile features\n",
      "-- Detecting CXX compile features - done\n",
      "Release mode\n",
      "-- Found PythonInterp: /home/duerunner/UBA/ALGORITMOS/MetNum/Labo/MetNum/tp2/tp2/bin/python (found version \"3.6.9\") \n",
      "-- Found PythonLibs: /usr/lib/x86_64-linux-gnu/libpython3.6m.so\n",
      "-- pybind11 v2.2.4\n",
      "-- Performing Test HAS_FLTO\n",
      "-- Performing Test HAS_FLTO - Success\n",
      "-- LTO enabled\n",
      "CMAKE_INSTALL_PREFIX=/home/duerunner/UBA/ALGORITMOS/MetNum/Labo/MetNum/tp2\n",
      "-- Configuring done\n",
      "-- Generating done\n",
      "-- Build files have been written to: /home/duerunner/UBA/ALGORITMOS/MetNum/Labo/MetNum/tp2/build\n",
      "\u001b[35m\u001b[1mScanning dependencies of target tp2\u001b[0m\n",
      "[ 10%] \u001b[32mBuilding CXX object CMakeFiles/tp2.dir/src/main.cpp.o\u001b[0m\n",
      "[ 20%] \u001b[32mBuilding CXX object CMakeFiles/tp2.dir/src/knn.cpp.o\u001b[0m\n",
      "[ 30%] \u001b[32mBuilding CXX object CMakeFiles/tp2.dir/src/pca.cpp.o\u001b[0m\n",
      "[ 40%] \u001b[32mBuilding CXX object CMakeFiles/tp2.dir/src/eigen.cpp.o\u001b[0m\n",
      "[ 50%] \u001b[32m\u001b[1mLinking CXX executable tp2\u001b[0m\n",
      "[ 50%] Built target tp2\n",
      "\u001b[35m\u001b[1mScanning dependencies of target metnum\u001b[0m\n",
      "[ 60%] \u001b[32mBuilding CXX object CMakeFiles/metnum.dir/src/metnum.cpp.o\u001b[0m\n",
      "[ 70%] \u001b[32mBuilding CXX object CMakeFiles/metnum.dir/src/knn.cpp.o\u001b[0m\n",
      "[ 80%] \u001b[32mBuilding CXX object CMakeFiles/metnum.dir/src/pca.cpp.o\u001b[0m\n",
      "[ 90%] \u001b[32mBuilding CXX object CMakeFiles/metnum.dir/src/eigen.cpp.o\u001b[0m\n",
      "[100%] \u001b[32m\u001b[1mLinking CXX shared module metnum.cpython-36m-x86_64-linux-gnu.so\u001b[0m\n",
      "[100%] Built target metnum\n",
      "\u001b[36mInstall the project...\u001b[0m\n",
      "-- Install configuration: \"Release\"\n",
      "-- Installing: /home/duerunner/UBA/ALGORITMOS/MetNum/Labo/MetNum/tp2/notebooks/metnum.cpython-36m-x86_64-linux-gnu.so\n"
     ]
    }
   ],
   "source": [
    "!cd .. && mkdir build\n",
    "!cd ../build/ && rm -rf *\n",
    "!cd ../build && cmake \\\n",
    "  -DPYTHON_EXECUTABLE=\"$(which python)\" \\\n",
    "  -DCMAKE_BUILD_TYPE=Release ..\n",
    "!cd ../build && make install"
   ]
  },
  {
   "cell_type": "markdown",
   "metadata": {},
   "source": [
    "# Test del Metodo de la potencia"
   ]
  },
  {
   "cell_type": "code",
   "execution_count": 2,
   "metadata": {},
   "outputs": [
    {
     "name": "stdout",
     "output_type": "stream",
     "text": [
      "/home/fyulita/Documents/UBA/2020-1C/Metodos Numericos/Material/Laboratorio/tp02/notebooks\n",
      "Python 3.8.3\n"
     ]
    }
   ],
   "source": [
    "!pwd\n",
    "!python --version\n",
    "import metnum"
   ]
  },
  {
   "cell_type": "markdown",
   "metadata": {},
   "source": [
    "# Testeamos el cálculo de autovalores y autovectores"
   ]
  },
  {
   "cell_type": "code",
   "execution_count": 5,
   "metadata": {},
   "outputs": [
    {
     "output_type": "error",
     "ename": "ModuleNotFoundError",
     "evalue": "No module named 'numpy'",
     "traceback": [
      "\u001b[0;31m---------------------------------------------------------------------------\u001b[0m",
      "\u001b[0;31mModuleNotFoundError\u001b[0m                       Traceback (most recent call last)",
      "\u001b[0;32m<ipython-input-5-0aa0b027fcb6>\u001b[0m in \u001b[0;36m<module>\u001b[0;34m\u001b[0m\n\u001b[0;32m----> 1\u001b[0;31m \u001b[0;32mimport\u001b[0m \u001b[0mnumpy\u001b[0m \u001b[0;32mas\u001b[0m \u001b[0mnp\u001b[0m\u001b[0;34m\u001b[0m\u001b[0;34m\u001b[0m\u001b[0m\n\u001b[0m",
      "\u001b[0;31mModuleNotFoundError\u001b[0m: No module named 'numpy'"
     ]
    }
   ],
   "source": [
    "import numpy as np"
   ]
  },
  {
   "cell_type": "code",
   "execution_count": 6,
   "metadata": {},
   "outputs": [
    {
     "output_type": "error",
     "ename": "NameError",
     "evalue": "name 'np' is not defined",
     "traceback": [
      "\u001b[0;31m---------------------------------------------------------------------------\u001b[0m",
      "\u001b[0;31mNameError\u001b[0m                                 Traceback (most recent call last)",
      "\u001b[0;32m<ipython-input-6-56a5e58ca99b>\u001b[0m in \u001b[0;36m<module>\u001b[0;34m\u001b[0m\n\u001b[0;32m----> 1\u001b[0;31m A = np.array([\n\u001b[0m\u001b[1;32m      2\u001b[0m     \u001b[0;34m[\u001b[0m\u001b[0;36m77\u001b[0m\u001b[0;34m,\u001b[0m \u001b[0;36m0\u001b[0m\u001b[0;34m]\u001b[0m\u001b[0;34m,\u001b[0m\u001b[0;34m\u001b[0m\u001b[0;34m\u001b[0m\u001b[0m\n\u001b[1;32m      3\u001b[0m     \u001b[0;34m[\u001b[0m\u001b[0;36m0\u001b[0m\u001b[0;34m,\u001b[0m \u001b[0;36m55\u001b[0m\u001b[0;34m]\u001b[0m\u001b[0;34m\u001b[0m\u001b[0;34m\u001b[0m\u001b[0m\n\u001b[1;32m      4\u001b[0m ])\n\u001b[1;32m      5\u001b[0m \u001b[0mautovalores_posta\u001b[0m \u001b[0;34m=\u001b[0m \u001b[0mnp\u001b[0m\u001b[0;34m.\u001b[0m\u001b[0mlinalg\u001b[0m\u001b[0;34m.\u001b[0m\u001b[0meig\u001b[0m\u001b[0;34m(\u001b[0m\u001b[0mA\u001b[0m\u001b[0;34m)\u001b[0m\u001b[0;34m[\u001b[0m\u001b[0;36m0\u001b[0m\u001b[0;34m]\u001b[0m\u001b[0;34m\u001b[0m\u001b[0;34m\u001b[0m\u001b[0m\n",
      "\u001b[0;31mNameError\u001b[0m: name 'np' is not defined"
     ]
    }
   ],
   "source": [
    "A = np.array([\n",
    "    [77, 0],\n",
    "    [0, 55]\n",
    "])\n",
    "autovalores_posta = np.linalg.eig(A)[0]\n",
    "autovalores_posta = -np.sort(-autovalores_posta) # Nos aseguramos de ordenar los autovalores de mayor a menor\n",
    "\n",
    "autovalores_propios, V = metnum.get_first_eigenvalues(A, 2)\n",
    "\n",
    "assert np.allclose(autovalores_posta, autovalores_propios)\n",
    "assert np.allclose(V @ np.diag(lambdas) @ V.T, A)"
   ]
  },
  {
   "cell_type": "code",
   "execution_count": 5,
   "metadata": {},
   "outputs": [],
   "source": [
    "B = np.array([\n",
    "    [7, 2],\n",
    "    [1, 9]\n",
    "])\n",
    "lambdas_exp = np.linalg.eig(B)[0]\n",
    "lambdas_exp = -np.sort(-lambdas_exp) # Nos aseguramos de ordenar los autovalores de mayor a menor\n",
    "\n",
    "lambdas, V = metnum.get_first_eigenvalues(B, 2)\n",
    "\n",
    "assert np.allclose(lambdas_exp, lambdas)\n",
    "assert np.allclose(V @ np.diag(lambdas) @ V.T, B)"
   ]
  },
  {
   "cell_type": "code",
   "execution_count": 6,
   "metadata": {},
   "outputs": [],
   "source": [
    "C = np.array([\n",
    "    [6, 0, 2, 0, 5],\n",
    "    [0, 5, 0, 2, 0],\n",
    "    [8, 0, 4, 0, 1],\n",
    "    [0, 1, 0, 9, 0],\n",
    "    [1, 0, 2, 0, 4]\n",
    "])\n",
    "lambdas_exp = np.linalg.eig(C)[0]\n",
    "lambdas_exp = -np.sort(-lambdas_exp) # Nos aseguramos de ordenar los autovalores de mayor a menor\n",
    "\n",
    "lambdas, V = metnum.get_first_eigenvalues(C, 5)\n",
    "\n",
    "assert np.allclose(lambdas_exp, lambdas)\n",
    "assert np.allclose(V @ np.diag(lambdas) @ V.T, C)"
   ]
  },
  {
   "cell_type": "code",
   "execution_count": 7,
   "metadata": {},
   "outputs": [],
   "source": [
    "# Ahora veamos que pasa si tomamos menos autovalores\n",
    "alpha = 2\n",
    "lambdas_new, V_new = metnum.get_first_eigenvalues(C, alpha)\n",
    "\n",
    "assert np.allclose(lambdas[:alpha], lambdas_new)\n",
    "assert np.allclose(C @ V_new, V_new @ np.diag(lambdas_new))"
   ]
  },
  {
   "cell_type": "code",
   "execution_count": 8,
   "metadata": {},
   "outputs": [],
   "source": [
    "E = np.random.rand(100, 100) # Creo una matriz al azar de 100x100 con coeficientes entre 0 y 100.\n",
    "E = E @ E.T # La multiplico por sí misma transpuesta para que sea simétrica.\n",
    "lambdas_exp = np.linalg.eig(E)[0]\n",
    "lambdas_exp = -np.sort(-lambdas_exp) # Nos aseguramos de ordenar los autovalores de mayor a menor\n",
    "\n",
    "alpha = 30\n",
    "lambdas, V = metnum.get_first_eigenvalues(E, alpha) # Veamos los primeros valores, ya que esto es lo que vamos a hacer en PCA.\n",
    "\n",
    "assert np.allclose(lambdas_exp[:alpha], lambdas)\n",
    "assert np.allclose(E @ V, V @ np.diag(lambdas))"
   ]
  },
  {
   "cell_type": "markdown",
   "metadata": {},
   "source": [
    "# Testeamos el cálculo de covarianza."
   ]
  },
  {
   "cell_type": "code",
   "execution_count": 9,
   "metadata": {},
   "outputs": [],
   "source": [
    "alpha = 30"
   ]
  },
  {
   "cell_type": "code",
   "execution_count": 10,
   "metadata": {},
   "outputs": [],
   "source": [
    "pca_A = metnum.PCA(alpha)\n",
    "A = np.array([\n",
    "    [64, 580, 29],\n",
    "    [66, 570, 33],\n",
    "    [68, 590, 37],\n",
    "    [69, 660, 46],\n",
    "    [73, 600, 55]\n",
    "])\n",
    "covariance_exp = np.cov(A.T)\n",
    "\n",
    "covariance = pca_A.covariance(A)\n",
    "\n",
    "assert np.allclose(covariance_exp, covariance)"
   ]
  },
  {
   "cell_type": "code",
   "execution_count": 11,
   "metadata": {},
   "outputs": [],
   "source": [
    "pca_B = metnum.PCA(alpha)\n",
    "B = np.array([\n",
    "    [90, 60, 90],\n",
    "    [90, 90, 30],\n",
    "    [60, 60, 60],\n",
    "    [60, 60, 90],\n",
    "    [30, 30, 30]\n",
    "])\n",
    "covariance_exp = covariance_exp = np.cov(B.T)\n",
    "\n",
    "covariance = pca_B.covariance(B)\n",
    "\n",
    "assert np.allclose(covariance_exp, covariance)"
   ]
  },
  {
   "cell_type": "code",
   "execution_count": 12,
   "metadata": {},
   "outputs": [],
   "source": [
    "pca_C = metnum.PCA(alpha)\n",
    "C = np.random.rand(100, 20) # Creo una matriz al azar de 100x100 con coeficientes entre 0 y 100.\n",
    "covariance_exp = covariance_exp = np.cov(C.T)\n",
    "\n",
    "covariance = pca_B.covariance(C)\n",
    "\n",
    "assert np.allclose(covariance_exp, covariance)"
   ]
  }
 ],
 "metadata": {
  "kernelspec": {
   "display_name": "Python 3",
   "language": "python",
   "name": "python3"
  },
  "language_info": {
   "codemirror_mode": {
    "name": "ipython",
    "version": 3
   },
   "file_extension": ".py",
   "mimetype": "text/x-python",
   "name": "python",
   "nbconvert_exporter": "python",
   "pygments_lexer": "ipython3",
   "version": "3.6.9-final"
  }
 },
 "nbformat": 4,
 "nbformat_minor": 4
}