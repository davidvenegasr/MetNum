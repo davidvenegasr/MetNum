{
 "cells": [
  {
   "cell_type": "markdown",
   "metadata": {},
   "source": [
    "# Test del metodo de la potencia\n",
    "## Compilamos Metnum"
   ]
  },
  {
   "cell_type": "code",
   "execution_count": 40,
   "metadata": {},
   "outputs": [
    {
     "name": "stdout",
     "output_type": "stream",
     "text": [
      "mkdir: cannot create directory ‘build’: File exists\n",
      "-- The C compiler identification is GNU 7.5.0\n",
      "-- The CXX compiler identification is GNU 7.5.0\n",
      "-- Check for working C compiler: /usr/bin/cc\n",
      "-- Check for working C compiler: /usr/bin/cc -- works\n",
      "-- Detecting C compiler ABI info\n",
      "-- Detecting C compiler ABI info - done\n",
      "-- Detecting C compile features\n",
      "-- Detecting C compile features - done\n",
      "-- Check for working CXX compiler: /usr/bin/c++\n",
      "-- Check for working CXX compiler: /usr/bin/c++ -- works\n",
      "-- Detecting CXX compiler ABI info\n",
      "-- Detecting CXX compiler ABI info - done\n",
      "-- Detecting CXX compile features\n",
      "-- Detecting CXX compile features - done\n",
      "Release mode\n",
      "-- Found PythonInterp: /home/leandro/Downloads/MetodosNumericos/MetodosTp2/metnum-tp2-2c2020/virtualEnvTp2/bin/python (found version \"3.6.9\") \n",
      "-- Found PythonLibs: /usr/lib/x86_64-linux-gnu/libpython3.6m.so\n",
      "-- pybind11 v2.2.4\n",
      "-- Performing Test HAS_FLTO\n",
      "-- Performing Test HAS_FLTO - Success\n",
      "-- LTO enabled\n",
      "CMAKE_INSTALL_PREFIX=/home/leandro/Downloads/MetodosNumericos/MetodosTp2FinalVer/MetNum/tp2\n",
      "-- Configuring done\n",
      "-- Generating done\n",
      "-- Build files have been written to: /home/leandro/Downloads/MetodosNumericos/MetodosTp2FinalVer/MetNum/tp2/build\n",
      "\u001b[35m\u001b[1mScanning dependencies of target tp2\u001b[0m\n",
      "[ 10%] \u001b[32mBuilding CXX object CMakeFiles/tp2.dir/src/main.cpp.o\u001b[0m\n",
      "[ 20%] \u001b[32mBuilding CXX object CMakeFiles/tp2.dir/src/knn.cpp.o\u001b[0m\n",
      "[ 30%] \u001b[32mBuilding CXX object CMakeFiles/tp2.dir/src/pca.cpp.o\u001b[0m\n",
      "[ 40%] \u001b[32mBuilding CXX object CMakeFiles/tp2.dir/src/eigen.cpp.o\u001b[0m\n",
      "[ 50%] \u001b[32m\u001b[1mLinking CXX executable tp2\u001b[0m\n",
      "[ 50%] Built target tp2\n",
      "\u001b[35m\u001b[1mScanning dependencies of target metnum\u001b[0m\n",
      "[ 60%] \u001b[32mBuilding CXX object CMakeFiles/metnum.dir/src/metnum.cpp.o\u001b[0m\n",
      "[ 70%] \u001b[32mBuilding CXX object CMakeFiles/metnum.dir/src/knn.cpp.o\u001b[0m\n",
      "[ 80%] \u001b[32mBuilding CXX object CMakeFiles/metnum.dir/src/pca.cpp.o\u001b[0m\n",
      "[ 90%] \u001b[32mBuilding CXX object CMakeFiles/metnum.dir/src/eigen.cpp.o\u001b[0m\n",
      "[100%] \u001b[32m\u001b[1mLinking CXX shared module metnum.cpython-36m-x86_64-linux-gnu.so\u001b[0m\n",
      "[100%] Built target metnum\n",
      "\u001b[36mInstall the project...\u001b[0m\n",
      "-- Install configuration: \"Release\"\n",
      "-- Installing: /home/leandro/Downloads/MetodosNumericos/MetodosTp2FinalVer/MetNum/tp2/notebooks/metnum.cpython-36m-x86_64-linux-gnu.so\n"
     ]
    }
   ],
   "source": [
    "!cd .. && mkdir build\n",
    "!cd ../build/ && rm -rf *\n",
    "!cd ../build && cmake \\\n",
    "  -DPYTHON_EXECUTABLE=\"$(which python)\" \\\n",
    "  -DCMAKE_BUILD_TYPE=Release ..\n",
    "!cd ../build && make install"
   ]
  },
  {
   "cell_type": "markdown",
   "metadata": {},
   "source": [
    "# Test del Metodo de la potencia"
   ]
  },
  {
   "cell_type": "code",
   "execution_count": 41,
   "metadata": {},
   "outputs": [
    {
     "name": "stdout",
     "output_type": "stream",
     "text": [
      "/home/leandro/Downloads/MetodosNumericos/MetodosTp2FinalVer/MetNum/tp2/notebooks\n",
      "Python 3.6.9\n"
     ]
    }
   ],
   "source": [
    "!pwd\n",
    "!python --version\n",
    "import metnum"
   ]
  },
  {
   "cell_type": "markdown",
   "metadata": {},
   "source": [
    "# Testeamos el cálculo de autovalores y autovectores"
   ]
  },
  {
   "cell_type": "code",
   "execution_count": 42,
   "metadata": {},
   "outputs": [],
   "source": [
    "import numpy as np"
   ]
  },
  {
   "cell_type": "code",
   "execution_count": 43,
   "metadata": {},
   "outputs": [],
   "source": [
    "M = np.array([\n",
    "    [77, 0],\n",
    "    [0, 55]\n",
    "])\n",
    "autovalores_posta = np.linalg.eig(M)[0]\n",
    "autovalores_posta = -np.sort(-autovalores_posta) #  Ordenamos autovalores\n",
    "\n",
    "autovalores_propios, V = metnum.get_first_eigenvalues(M, 2)\n",
    "\n",
    "assert np.allclose(autovalores_posta, autovalores_propios)\n",
    "assert np.allclose(V @ np.diag(autovalores_propios) @ V.T, M)"
   ]
  },
  {
   "cell_type": "code",
   "execution_count": 44,
   "metadata": {},
   "outputs": [],
   "source": [
    "M = np.array([\n",
    "    [7, 1],\n",
    "    [1, 9]\n",
    "])\n",
    "autovalores_posta = np.linalg.eig(M)[0]\n",
    "autovalores_posta = -np.sort(-autovalores_posta) #  Ordenamos autovalores de forma creciente\n",
    "\n",
    "autovalores, V = metnum.get_first_eigenvalues(M, 2)\n",
    "\n",
    "assert np.allclose(autovalores_posta, autovalores)\n",
    "assert np.allclose(V @ np.diag(autovalores) @ V.T, M)"
   ]
  },
  {
   "cell_type": "code",
   "execution_count": 45,
   "metadata": {},
   "outputs": [],
   "source": [
    "M = np.array([\n",
    "    [6, 0, 2, 0, 5],\n",
    "    [0, 5, 2, 1, 0],\n",
    "    [2, 2, 4, 0, 2],\n",
    "    [0, 1, 0, 9, 0],\n",
    "    [5, 0, 2, 0, 4]\n",
    "])\n",
    "autovalores_posta = np.linalg.eig(M)[0]\n",
    "autovalores_posta = -np.sort(-autovalores_posta) # ordenamos los autovalores de mayor a menor\n",
    "\n",
    "autovalores, V = metnum.get_first_eigenvalues(M, 5)\n",
    "\n",
    "assert np.allclose(autovalores_posta, autovalores)\n",
    "assert np.allclose(V @ np.diag(autovalores) @ V.T, M)"
   ]
  },
  {
   "cell_type": "code",
   "execution_count": 74,
   "metadata": {},
   "outputs": [
    {
     "name": "stdout",
     "output_type": "stream",
     "text": [
      "[[6 2 9 ... 8 1 0]\n",
      " [4 7 1 ... 5 0 8]\n",
      " [9 8 5 ... 3 6 5]\n",
      " ...\n",
      " [5 0 5 ... 0 6 2]\n",
      " [9 8 1 ... 6 2 4]\n",
      " [3 6 3 ... 6 7 0]]\n"
     ]
    }
   ],
   "source": [
    "M = np.random.randint(10, size=(500, 500)) # Se crea una matriz random de 500x500 con valores entre 0 y 9 inclusive.\n",
    "print(M)\n",
    "\n",
    "M = M @ M.T # La multiplico por sí misma transpuesta para que sea simétrica.\n",
    "autovalores_posta = np.linalg.eig(M)[0]\n",
    "autovalores_posta = -np.sort(-autovalores_posta) # Ordenamos autovalores de mayor a menor\n",
    "\n",
    "alpha = 10\n",
    "autovalores, V = metnum.get_first_eigenvalues(M, alpha) # Veamos los primeros valores, ya que esto es lo que vamos a hacer en PCA.\n",
    "\n",
    "assert np.allclose(autovalores_posta[:alpha], autovalores)\n",
    "assert np.allclose(M @ V, V @ np.diag(autovalores))"
   ]
  },
  {
   "cell_type": "code",
   "execution_count": null,
   "metadata": {},
   "outputs": [],
   "source": []
  },
  {
   "cell_type": "code",
   "execution_count": null,
   "metadata": {},
   "outputs": [],
   "source": []
  },
  {
   "cell_type": "code",
   "execution_count": null,
   "metadata": {},
   "outputs": [],
   "source": []
  }
 ],
 "metadata": {
  "kernelspec": {
   "display_name": "Python 3",
   "language": "python",
   "name": "python3"
  },
  "language_info": {
   "codemirror_mode": {
    "name": "ipython",
    "version": 3
   },
   "file_extension": ".py",
   "mimetype": "text/x-python",
   "name": "python",
   "nbconvert_exporter": "python",
   "pygments_lexer": "ipython3",
   "version": "3.6.9"
  }
 },
 "nbformat": 4,
 "nbformat_minor": 4
}
