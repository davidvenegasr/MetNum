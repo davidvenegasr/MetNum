{
 "cells": [
  {
   "source": [
    "# Test del metodo de la potencia\n",
    "## Compilamos Metnum"
   ],
   "cell_type": "markdown",
   "metadata": {}
  },
  {
   "cell_type": "code",
   "execution_count": null,
   "metadata": {},
   "outputs": [],
   "source": [
    "!cd .. && mkdir build\n",
    "!cd ../build/ && rm -rf *\n",
    "!cd ../build && cmake \\\n",
    "  -DPYTHON_EXECUTABLE=\"$(which python)\" \\\n",
    "  -DCMAKE_BUILD_TYPE=Release ..\n",
    "!cd ../build && make install"
   ]
  },
  {
   "cell_type": "markdown",
   "metadata": {},
   "source": [
    "# Test del Metodo de la potencia"
   ]
  },
  {
   "cell_type": "code",
   "execution_count": null,
   "metadata": {},
   "outputs": [],
   "source": [
    "!pwd\n",
    "!python --version\n",
    "import metnum"
   ]
  },
  {
   "cell_type": "markdown",
   "metadata": {},
   "source": [
    "# Testeamos el cálculo de autovalores y autovectores"
   ]
  },
  {
   "cell_type": "code",
   "execution_count": null,
   "metadata": {},
   "outputs": [],
   "source": [
    "import numpy as np"
   ]
  },
  {
   "cell_type": "code",
   "execution_count": null,
   "metadata": {},
   "outputs": [],
   "source": [
    "M = np.array([\n",
    "    [77, 0],\n",
    "    [0, 55]\n",
    "])\n",
    "autovalores_posta = np.linalg.eig(M)[0]\n",
    "autovalores_posta = -np.sort(-autovalores_posta) #  Ordenamos autovalores\n",
    "\n",
    "autovalores_propios, V = metnum.get_first_eigenvalues(M, 2)\n",
    "\n",
    "assert np.allclose(autovalores_posta, autovalores_propios)\n",
    "assert np.allclose(V @ np.diag(lambdas) @ V.T, M)"
   ]
  },
  {
   "cell_type": "code",
   "execution_count": null,
   "metadata": {},
   "outputs": [],
   "source": [
    "M = np.array([\n",
    "    [7, 2],\n",
    "    [1, 9]\n",
    "])\n",
    "autovalores_posta = np.linalg.eig(M)[0]\n",
    "autovalores_posta = -np.sort(-autovalores_posta) #  Ordenamos autovalores de forma creciente\n",
    "\n",
    "autovalores, V = metnum.get_first_eigenvalues(M, 2)\n",
    "\n",
    "assert np.allclose(autovalores_posta, autovalores)\n",
    "assert np.allclose(V @ np.diag(autovalores) @ V.T, M)"
   ]
  },
  {
   "cell_type": "code",
   "execution_count": null,
   "metadata": {},
   "outputs": [],
   "source": [
    "M = np.array([\n",
    "    [6, 0, 2, 0, 5],\n",
    "    [0, 5, 0, 2, 0],\n",
    "    [8, 0, 4, 0, 1],\n",
    "    [0, 1, 0, 9, 0],\n",
    "    [1, 0, 2, 0, 4]\n",
    "])\n",
    "autovalores_posta = np.linalg.eig(M)[0]\n",
    "autovalores_posta = -np.sort(-autovalores_posta) # ordenamos los autovalores de mayor a menor\n",
    "\n",
    "autovalores, V = metnum.get_first_eigenvalues(M, 5)\n",
    "\n",
    "assert np.allclose(autovalores_posta, autovalores)\n",
    "assert np.allclose(V @ np.diag(autovalores) @ V.T, M)"
   ]
  },
  {
   "cell_type": "code",
   "execution_count": null,
   "metadata": {},
   "outputs": [],
   "source": [
    "M = np.random.randint(10, size=(1000,1000)) # Se crea una matriz random de 1000x1000 con valores entre 0 y 9 inclusive.\n",
    "print(M)\n",
    "\n",
    "M = M @ M.T # La multiplico por sí misma transpuesta para que sea simétrica.\n",
    "autovalores_posta = np.linalg.eig(M)[0]\n",
    "autovalores_posta = -np.sort(-autovalores_posta) # Ordenamos autovalores de mayor a menor\n",
    "\n",
    "alpha = 30\n",
    "autovalores, V = metnum.get_first_eigenvalues(M, alpha) # Veamos los primeros valores, ya que esto es lo que vamos a hacer en PCA.\n",
    "\n",
    "assert np.allclose(autovalores_posta[:alpha], autovalores)\n",
    "assert np.allclose(M @ V, V @ np.diag(autovalores))"
   ]
  },
  {
   "cell_type": "code",
   "execution_count": null,
   "metadata": {},
   "outputs": [],
   "source": []
  },
  {
   "cell_type": "code",
   "execution_count": null,
   "metadata": {},
   "outputs": [],
   "source": []
  }
 ],
 "metadata": {
  "kernelspec": {
   "display_name": "Python 3",
   "language": "python",
   "name": "python3"
  },
  "language_info": {
   "codemirror_mode": {
    "name": "ipython",
    "version": 3
   },
   "file_extension": ".py",
   "mimetype": "text/x-python",
   "name": "python",
   "nbconvert_exporter": "python",
   "pygments_lexer": "ipython3",
   "version": "3.8.6-final"
  }
 },
 "nbformat": 4,
 "nbformat_minor": 4
}