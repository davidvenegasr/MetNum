{
 "metadata": {
  "language_info": {
   "codemirror_mode": {
    "name": "ipython",
    "version": 3
   },
   "file_extension": ".py",
   "mimetype": "text/x-python",
   "name": "python",
   "nbconvert_exporter": "python",
   "pygments_lexer": "ipython3",
   "version": "3.6.9-final"
  },
  "orig_nbformat": 2,
  "kernelspec": {
   "name": "python3",
   "display_name": "Python 3"
  }
 },
 "nbformat": 4,
 "nbformat_minor": 2,
 "cells": [
  {
   "source": [
    "#### TP1 -- #Grupo 17\n",
    "\n",
    "# Experimentación\n",
    "En el presente cuaderno de Jupiter se corren los experimentos planteados y se escriben los resultados en archivos .CSV en la carpeta de resultados para luego ser analizados en el notebook de Analisis de Datos."
   ],
   "cell_type": "markdown",
   "metadata": {}
  },
  {
   "cell_type": "code",
   "execution_count": 2,
   "metadata": {},
   "outputs": [],
   "source": [
    "import math, subprocess\n",
    "import pandas as pd\n",
    "import numpy as np\n",
    "import random\n",
    "import filecmp\n",
    "from IPython.display import display, clear_output"
   ]
  },
  {
   "cell_type": "code",
   "execution_count": 3,
   "metadata": {
    "tags": []
   },
   "outputs": [
    {
     "output_type": "stream",
     "name": "stderr",
     "text": "UsageError: Line magic function `%%capture` not found.\n"
    }
   ],
   "source": [
    "#Hacemos make para compilar\n",
    "%%capture\n",
    "subprocess.Popen([\"make\"], stdout=subprocess.PIPE, cwd=\"../src\")"
   ]
  },
  {
   "cell_type": "code",
   "execution_count": 5,
   "metadata": {},
   "outputs": [],
   "source": [
    "# funcion para correr experimento en C++\n",
    "def correr_experimento(metodo, input, output):\n",
    "     process = subprocess.Popen([\"../src/tp1\", input, output, metodo], stderr=subprocess.PIPE, stdout=subprocess.PIPE, stdin=subprocess.PIPE, universal_newlines = True)\n"
   ]
  },
  {
   "cell_type": "code",
   "execution_count": 6,
   "metadata": {},
   "outputs": [],
   "source": [
    "# Corremos los tests de la catedra para hacer el analisis de dif absoluta\n",
    "correr_experimento(\"0\", \"test_completos/test_completo_10_1.in\", \"test_completos/test_completo_10_11.out\")\n",
    "correr_experimento(\"0\", \"test_completos/test_completo_100_4.in\", \"test_completos/test_completo_10_11.out\")\n",
    "correr_experimento(\"0\", \"test_completos/test_completo_1000_8.in\", \"test_completos/test_completo_10_11.out\")"
   ]
  },
  {
   "cell_type": "code",
   "execution_count": 7,
   "metadata": {},
   "outputs": [],
   "source": [
    "# funcion para correr experimento con los 3 metodos \n",
    "def experimentar(input, output):\n",
    "    for i in range(3):\n",
    "        correr_experimento(str(i), f\"{input}.dat\", f\"{output}_{i}.out\")\n",
    "    "
   ]
  },
  {
   "cell_type": "code",
   "execution_count": 10,
   "metadata": {},
   "outputs": [],
   "source": [
    "# corremos los experimentos con los 3 metodos estudiados\n",
    "experimentar(\"nba/nba_2016_scores\",\"nba/nba_2016_scores\")"
   ]
  },
  {
   "source": [
    "## Experimento 1 -  Fuerza de los Oponentes:\n",
    "\n",
    "Tenemos dos datasets adhoc, uno con una temporada perfecta para el primer equipo y otro con un upset . LUego estos seran analizados en detalles en el notebook Analisis de Experimentos\n"
   ],
   "cell_type": "markdown",
   "metadata": {}
  },
  {
   "cell_type": "code",
   "execution_count": 9,
   "metadata": {},
   "outputs": [],
   "source": [
    "#Caso chico\n",
    "experimentar(\"dataset_adhoc/perfect_season\",\"dataset_adhoc/perfect_season\")\n",
    "experimentar(\"dataset_adhoc/upset_in_perfect_season\",\"dataset_adhoc/upset_in_perfect_season\")\n",
    "#Caso grande NBA\n",
    "experimentar(\"dataset_adhoc/nba_2016_scores\",\"dataset_adhoc/nba_2016_scores\")\n",
    "#Se modifico esta linea 20151102 6 103 23 117 para que Philadelphia, el ultimo equipo le gane a uno de los primeros Cleveland\n",
    "experimentar(\"dataset_adhoc/upset_nba_2016_scores\",\"dataset_adhoc/upset_nba_2016_scores\")"
   ]
  },
  {
   "source": [
    "\n",
    "## Experimento 2 -  Relevancia del Orden de los Eventos:\n",
    "\n",
    "Queremos ver si alterando la sequencia de partidos cambia el resultado"
   ],
   "cell_type": "markdown",
   "metadata": {}
  },
  {
   "cell_type": "code",
   "execution_count": 10,
   "metadata": {},
   "outputs": [],
   "source": [
    "# Queremos crear un archivo con el orden invertido de los partidos.\n",
    "def cambiar_orden(dir):\n",
    "    file = open(f\"{dir}.dat\", \"r\")\n",
    "    list = file.readlines()\n",
    "    file.close()\n",
    "    l1 = list[0]\n",
    "    list = list[1:] \n",
    "    list.reverse()\n",
    "    list = [l1] + list\n",
    "    file = open(f\"{dir}_reversed.dat\", \"w\")\n",
    "    for value in list:\n",
    "        file.write(value)\n",
    "    file.close()\n",
    "\n",
    "    # y otro archivo con un orden aleatorio.\n",
    "    file = open(f\"{dir}.dat\", \"r\")\n",
    "    list = file.readlines()\n",
    "    file.close()\n",
    "    l1 = list[0]\n",
    "    list= list[1:]\n",
    "    random.shuffle(list)\n",
    "    list = [l1] + list\n",
    "    file = open(f\"{dir}_random.dat\", \"w\")\n",
    "    for value in list:\n",
    "        file.write(value)\n",
    "    file.close() "
   ]
  },
  {
   "cell_type": "code",
   "execution_count": 17,
   "metadata": {},
   "outputs": [],
   "source": [
    "# funcion para comaparar si hubo cambios al modificar el orden\n",
    "def comparar():\n",
    "    flag_diferencias = False\n",
    "    datasets = [\"nba/nba_2016_scores\",\n",
    "                \"nfl/nfl_2019\",\"atp/atp_matches_2015\",\"nhl/nhl_2019\"]\n",
    "    for d in datasets:\n",
    "        cambiar_orden(d)\n",
    "        #experimentamos con el dataset origininal\n",
    "        experimentar(d,d)\n",
    "        #luego con el invertido y el aleatorio\n",
    "        experimentar(f'{d}_reversed',f'{d}_reversed')\n",
    "        experimentar(f'{d}_random',f'{d}_random')\n",
    "        for i in range(3):\n",
    "            #comparamos si el resultado es el mismo\n",
    "            dir1=f'{d}_{i}.out'\n",
    "            dir2=f'{d}_reversed_{i}.out'\n",
    "            if (not filecmp.cmp(dir1,dir2,shallow=False) ):\n",
    "                flag_diferencias = True\n",
    "                print(\"Diferencias encontradas en \", dir1)\n",
    "    if(not flag_diferencias):\n",
    "        print(\"No se encontraron diferencias\")\n"
   ]
  },
  {
   "cell_type": "code",
   "execution_count": 12,
   "metadata": {
    "tags": []
   },
   "outputs": [
    {
     "output_type": "stream",
     "name": "stdout",
     "text": "Diferencias encontradas en  nba/nba_2016_scores_2.out\nDiferencias encontradas en  nfl/nfl_2019_2.out\nDiferencias encontradas en  nhl/nhl_2019_2.out\n"
    }
   ],
   "source": [
    "comparar()"
   ]
  },
  {
   "source": [
    "## Experimento 3 -  Independencia de los partidos:"
   ],
   "cell_type": "markdown",
   "metadata": {}
  },
  {
   "cell_type": "code",
   "execution_count": 21,
   "metadata": {},
   "outputs": [],
   "source": [
    "#Caso chico\n",
    "experimentar(\"Exp3/test_1\",\"Exp3/out/test_1.dat\")\n",
    "#Se modificaron valores arbitrarios, sin afectar a los equipos 1 y 2\n",
    "experimentar(\"Exp3/test_1_mod1\",\"Exp3/out/test_1_mod1\")\n",
    "experimentar(\"Exp3/test_1_mod2\",\"Exp3/out/test_1_mod2\")\n",
    "experimentar(\"Exp3/test_1_mod3\",\"Exp3/out/test_1_mod3\")\n",
    "\n",
    "#Caso grande NFL --------------------------------------\n",
    "#MEJOR EQUIPO (NFC): San Francisco (id=28)\n",
    "#1er PEOR EQUIPO (AFC): Cincinatti (id=7)\n",
    "#2do PEOR EQUIPO (AFC): Miami (id=20)\n",
    "\n",
    "#dataset original: nfl_2019.dat\n",
    "experimentar(\"Exp3/nfl_2019\",\"Exp3/out/nfl_2019\")\n",
    "\n",
    "#Se modifica linea 234: \"20191222 20 38 7 35\" por \"20191222 20 35 7 38\"\n",
    "# a favor de Cincinatti\n",
    "\n",
    "#Se espera que en Colley se sienta esa diferencia\n",
    "experimentar(\"Exp3/nfl_2019_mod\",\"Exp3/out/nfl_2019_mod\")"
   ]
  },
  {
   "source": [
    "## Experimento 4 -  Tiempo:"
   ],
   "cell_type": "markdown",
   "metadata": {}
  },
  {
   "cell_type": "code",
   "execution_count": 12,
   "metadata": {
    "tags": []
   },
   "outputs": [
    {
     "output_type": "display_data",
     "data": {
      "text/plain": "      dataset  metodo tiempo\n0    NBA 2016  colley   5780\n1    NBA 2016  colley   4408\n2    NBA 2016  colley   6018\n3    NBA 2016  colley   9578\n4    NBA 2016  colley   4537\n..        ...     ...    ...\n115  NHL 2019      sr   3417\n116  NHL 2019      sr   3063\n117  NHL 2019      sr   5156\n118  NHL 2019      sr   4022\n119  NHL 2019      sr   4293\n\n[120 rows x 3 columns]",
      "text/html": "<div>\n<style scoped>\n    .dataframe tbody tr th:only-of-type {\n        vertical-align: middle;\n    }\n\n    .dataframe tbody tr th {\n        vertical-align: top;\n    }\n\n    .dataframe thead th {\n        text-align: right;\n    }\n</style>\n<table border=\"1\" class=\"dataframe\">\n  <thead>\n    <tr style=\"text-align: right;\">\n      <th></th>\n      <th>dataset</th>\n      <th>metodo</th>\n      <th>tiempo</th>\n    </tr>\n  </thead>\n  <tbody>\n    <tr>\n      <th>0</th>\n      <td>NBA 2016</td>\n      <td>colley</td>\n      <td>5780</td>\n    </tr>\n    <tr>\n      <th>1</th>\n      <td>NBA 2016</td>\n      <td>colley</td>\n      <td>4408</td>\n    </tr>\n    <tr>\n      <th>2</th>\n      <td>NBA 2016</td>\n      <td>colley</td>\n      <td>6018</td>\n    </tr>\n    <tr>\n      <th>3</th>\n      <td>NBA 2016</td>\n      <td>colley</td>\n      <td>9578</td>\n    </tr>\n    <tr>\n      <th>4</th>\n      <td>NBA 2016</td>\n      <td>colley</td>\n      <td>4537</td>\n    </tr>\n    <tr>\n      <th>...</th>\n      <td>...</td>\n      <td>...</td>\n      <td>...</td>\n    </tr>\n    <tr>\n      <th>115</th>\n      <td>NHL 2019</td>\n      <td>sr</td>\n      <td>3417</td>\n    </tr>\n    <tr>\n      <th>116</th>\n      <td>NHL 2019</td>\n      <td>sr</td>\n      <td>3063</td>\n    </tr>\n    <tr>\n      <th>117</th>\n      <td>NHL 2019</td>\n      <td>sr</td>\n      <td>5156</td>\n    </tr>\n    <tr>\n      <th>118</th>\n      <td>NHL 2019</td>\n      <td>sr</td>\n      <td>4022</td>\n    </tr>\n    <tr>\n      <th>119</th>\n      <td>NHL 2019</td>\n      <td>sr</td>\n      <td>4293</td>\n    </tr>\n  </tbody>\n</table>\n<p>120 rows × 3 columns</p>\n</div>"
     },
     "metadata": {}
    }
   ],
   "source": [
    "import datetime\n",
    "\n",
    "columnas = [\"dataset\", \"metodo\",\"tiempo\"];\n",
    "filas = []\n",
    "input = [\"nba/nba_2016_scores.dat\",\n",
    "         \"atp/atp_matches_2015.dat\",\n",
    "         \"nfl/nfl_2019.dat\",\n",
    "         \"nhl/nhl_2019.dat\"]\n",
    "metodos = [\"colley\",\"wp\",\"sr\"]\n",
    "datasets = [\"NBA 2016\",\"ATP 2015\",\"NFL 2019\",\"NHL 2019\"]\n",
    "\n",
    "cant_exp = 10\n",
    "for n_ds in range(len(input)):\n",
    "    for n_met in range(len(metodos)):\n",
    "        for i in range(cant_exp):\n",
    "            fila_actual = []\n",
    "            fila_actual.append(datasets[n_ds])\n",
    "            fila_actual.append(metodos[n_met])\n",
    "\n",
    "            init = datetime.datetime.now()\n",
    "            correr_experimento(str(n_met), f\"{input[n_ds]}\", f\"Exp4/{input[n_ds]}_{n_met}.out\")\n",
    "            end = datetime.datetime.now()\n",
    "            time=end-init  \n",
    "            fila_actual.append(str(time.microseconds))\n",
    "\n",
    "            filas.append(fila_actual)\n",
    "            #print(fila_actual)\n",
    "\n",
    "resultado = pd.DataFrame(filas, columns=columnas);\n",
    "resultado.to_csv(F\"Exp4/resultado_exp4.csv\", index=False, header=True);\n",
    "display(resultado)"
   ]
  },
  {
   "cell_type": "code",
   "execution_count": null,
   "metadata": {},
   "outputs": [],
   "source": []
  }
 ]
}