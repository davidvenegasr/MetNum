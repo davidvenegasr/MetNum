{
 "metadata": {
  "language_info": {
   "codemirror_mode": {
    "name": "ipython",
    "version": 3
   },
   "file_extension": ".py",
   "mimetype": "text/x-python",
   "name": "python",
   "nbconvert_exporter": "python",
   "pygments_lexer": "ipython3",
   "version": "3.6.9-final"
  },
  "orig_nbformat": 2,
  "kernelspec": {
   "name": "python3",
   "display_name": "Python 3"
  }
 },
 "nbformat": 4,
 "nbformat_minor": 2,
 "cells": [
  {
   "source": [
    "#### TP1 -- #Grupo 17\n",
    "\n",
    "# Experimentación\n",
    "En el presente cuaderno de Jupiter se corren los experimentos planteados y se escriben los resultados en archivos .CSV en la carpeta de resultados para luego ser analizados en el notebook de Analisis de Datos."
   ],
   "cell_type": "markdown",
   "metadata": {}
  },
  {
   "cell_type": "code",
   "execution_count": 5,
   "metadata": {},
   "outputs": [],
   "source": [
    "import math, subprocess\n",
    "import pandas as pd\n",
    "import numpy as np\n",
    "import random\n",
    "import filecmp\n",
    "from IPython.display import display, clear_output"
   ]
  },
  {
   "cell_type": "code",
   "execution_count": 6,
   "metadata": {
    "tags": []
   },
   "outputs": [
    {
     "output_type": "stream",
     "name": "stderr",
     "text": "UsageError: Line magic function `%%capture` not found.\n"
    }
   ],
   "source": [
    "#Hacemos make para compilar\n",
    "%%capture\n",
    "subprocess.Popen([\"make\"], stdout=subprocess.PIPE, cwd=\"../src\")"
   ]
  },
  {
   "cell_type": "code",
   "execution_count": 7,
   "metadata": {},
   "outputs": [],
   "source": [
    "# funcion para correr experimento en C++\n",
    "def correr_experimento(metodo, input, output):\n",
    "     process = subprocess.Popen([\"../src/tp1\", input, output, metodo], stderr=subprocess.PIPE, stdout=subprocess.PIPE, stdin=subprocess.PIPE, universal_newlines = True)\n"
   ]
  },
  {
   "cell_type": "code",
   "execution_count": 8,
   "metadata": {},
   "outputs": [],
   "source": [
    "# Corremos los tests de la catedra para hacer el analisis de dif absoluta\n",
    "correr_experimento(\"0\", \"test_completos/test_completo_10_1.in\", \"test_completos/test_completo_10_11.out\")\n",
    "correr_experimento(\"0\", \"test_completos/test_completo_100_4.in\", \"test_completos/test_completo_10_11.out\")\n",
    "correr_experimento(\"0\", \"test_completos/test_completo_1000_8.in\", \"test_completos/test_completo_10_11.out\")"
   ]
  },
  {
   "cell_type": "code",
   "execution_count": 9,
   "metadata": {},
   "outputs": [],
   "source": [
    "# funcion para correr experimento con los 3 metodos \n",
    "def experimentar(input, output):\n",
    "    for i in range(3):\n",
    "        correr_experimento(str(i), f\"{input}.dat\", f\"{output}_{i}.out\")\n",
    "    "
   ]
  },
  {
   "cell_type": "code",
   "execution_count": 10,
   "metadata": {},
   "outputs": [],
   "source": [
    "# corremos los experimentos con los 3 metodos estudiados\n",
    "experimentar(\"nba/nba_2016_scores\",\"nba/nba_2016_scores\")"
   ]
  },
  {
   "source": [
    "## Experimento 1 -  Fuerza de los Oponentes:\n",
    "\n",
    "Tenemos dos datasets adhoc, uno con una temporada perfecta para el primer equipo y otro con un upset . LUego estos seran analizados en detalles en el notebook Analisis de Experimentos\n"
   ],
   "cell_type": "markdown",
   "metadata": {}
  },
  {
   "cell_type": "code",
   "execution_count": 9,
   "metadata": {},
   "outputs": [],
   "source": [
    "#Caso chico\n",
    "experimentar(\"dataset_adhoc/perfect_season\",\"dataset_adhoc/perfect_season\")\n",
    "experimentar(\"dataset_adhoc/upset_in_perfect_season\",\"dataset_adhoc/upset_in_perfect_season\")\n",
    "#Caso grande NBA\n",
    "experimentar(\"dataset_adhoc/nba_2016_scores\",\"dataset_adhoc/nba_2016_scores\")\n",
    "#Se modifico esta linea 20151102 6 103 23 117 para que Philadelphia, el ultimo equipo le gane a uno de los primeros Cleveland\n",
    "experimentar(\"dataset_adhoc/upset_nba_2016_scores\",\"dataset_adhoc/upset_nba_2016_scores\")"
   ]
  },
  {
   "source": [
    "\n",
    "## Experimento 2 -  Relevancia del Orden de los Eventos:\n",
    "\n",
    "Queremos ver si alterando la sequencia de partidos cambia el resultado"
   ],
   "cell_type": "markdown",
   "metadata": {}
  },
  {
   "cell_type": "code",
   "execution_count": 10,
   "metadata": {},
   "outputs": [],
   "source": [
    "# Queremos crear un archivo con el orden invertido de los partidos.\n",
    "def cambiar_orden(dir):\n",
    "    file = open(f\"{dir}.dat\", \"r\")\n",
    "    list = file.readlines()\n",
    "    file.close()\n",
    "    l1 = list[0]\n",
    "    list = list[1:] \n",
    "    list.reverse()\n",
    "    list = [l1] + list\n",
    "    file = open(f\"{dir}_reversed.dat\", \"w\")\n",
    "    for value in list:\n",
    "        file.write(value)\n",
    "    file.close()\n",
    "\n",
    "    # y otro archivo con un orden aleatorio.\n",
    "    file = open(f\"{dir}.dat\", \"r\")\n",
    "    list = file.readlines()\n",
    "    file.close()\n",
    "    l1 = list[0]\n",
    "    list= list[1:]\n",
    "    random.shuffle(list)\n",
    "    list = [l1] + list\n",
    "    file = open(f\"{dir}_random.dat\", \"w\")\n",
    "    for value in list:\n",
    "        file.write(value)\n",
    "    file.close() "
   ]
  },
  {
   "cell_type": "code",
   "execution_count": 17,
   "metadata": {},
   "outputs": [],
   "source": [
    "# funcion para comaparar si hubo cambios al modificar el orden\n",
    "def comparar():\n",
    "    flag_diferencias = False\n",
    "    datasets = [\"nba/nba_2016_scores\",\n",
    "                \"nfl/nfl_2019\",\"atp/atp_matches_2015\",\"nhl/nhl_2019\"]\n",
    "    for d in datasets:\n",
    "        cambiar_orden(d)\n",
    "        #experimentamos con el dataset origininal\n",
    "        experimentar(d,d)\n",
    "        #luego con el invertido y el aleatorio\n",
    "        experimentar(f'{d}_reversed',f'{d}_reversed')\n",
    "        experimentar(f'{d}_random',f'{d}_random')\n",
    "        for i in range(3):\n",
    "            #comparamos si el resultado es el mismo\n",
    "            dir1=f'{d}_{i}.out'\n",
    "            dir2=f'{d}_reversed_{i}.out'\n",
    "            if (not filecmp.cmp(dir1,dir2,shallow=False) ):\n",
    "                flag_diferencias = True\n",
    "                print(\"Diferencias encontradas en \", dir1)\n",
    "    if(not flag_diferencias):\n",
    "        print(\"No se encontraron diferencias\")\n"
   ]
  },
  {
   "cell_type": "code",
   "execution_count": 12,
   "metadata": {
    "tags": []
   },
   "outputs": [
    {
     "output_type": "stream",
     "name": "stdout",
     "text": "Diferencias encontradas en  nba/nba_2016_scores_2.out\nDiferencias encontradas en  nfl/nfl_2019_2.out\nDiferencias encontradas en  nhl/nhl_2019_2.out\n"
    }
   ],
   "source": [
    "comparar()"
   ]
  },
  {
   "source": [
    "## Experimento 3 -  Independencia de los partidos:"
   ],
   "cell_type": "markdown",
   "metadata": {}
  },
  {
   "source": [
    "## Experimento 4 -  Tiempo:"
   ],
   "cell_type": "markdown",
   "metadata": {}
  },
  {
   "cell_type": "code",
   "execution_count": 14,
   "metadata": {
    "tags": []
   },
   "outputs": [
    {
     "output_type": "stream",
     "name": "stdout",
     "text": "['NBA 2016', 'colley', '6872']\n['NBA 2016', 'colley', '5365']\n['NBA 2016', 'colley', '5019']\n['NBA 2016', 'colley', '6046']\n['NBA 2016', 'colley', '5583']\n['NBA 2016', 'colley', '5030']\n['NBA 2016', 'colley', '4834']\n['NBA 2016', 'colley', '5404']\n['NBA 2016', 'colley', '4331']\n['NBA 2016', 'colley', '6394']\n['NBA 2016', 'wp', '4304']\n['NBA 2016', 'wp', '3827']\n['NBA 2016', 'wp', '6621']\n['NBA 2016', 'wp', '4114']\n['NBA 2016', 'wp', '4010']\n['NBA 2016', 'wp', '7271']\n['NBA 2016', 'wp', '4573']\n['NBA 2016', 'wp', '3563']\n['NBA 2016', 'wp', '5957']\n['NBA 2016', 'wp', '5167']\n['NBA 2016', 'sr', '3611']\n['NBA 2016', 'sr', '5630']\n['NBA 2016', 'sr', '5652']\n['NBA 2016', 'sr', '5029']\n['NBA 2016', 'sr', '5999']\n['NBA 2016', 'sr', '7256']\n['NBA 2016', 'sr', '6280']\n['NBA 2016', 'sr', '8478']\n['NBA 2016', 'sr', '4580']\n['NBA 2016', 'sr', '6209']\n['ATP 2015', 'colley', '4360']\n['ATP 2015', 'colley', '6040']\n['ATP 2015', 'colley', '7943']\n['ATP 2015', 'colley', '8788']\n['ATP 2015', 'colley', '17950']\n['ATP 2015', 'colley', '19655']\n['ATP 2015', 'colley', '32142']\n['ATP 2015', 'colley', '32487']\n['ATP 2015', 'colley', '37702']\n['ATP 2015', 'colley', '22554']\n['ATP 2015', 'wp', '27049']\n['ATP 2015', 'wp', '15585']\n['ATP 2015', 'wp', '9353']\n['ATP 2015', 'wp', '10112']\n['ATP 2015', 'wp', '11561']\n['ATP 2015', 'wp', '11120']\n['ATP 2015', 'wp', '8632']\n['ATP 2015', 'wp', '9823']\n['ATP 2015', 'wp', '5773']\n['ATP 2015', 'wp', '4710']\n['ATP 2015', 'sr', '7823']\n['ATP 2015', 'sr', '4352']\n['ATP 2015', 'sr', '5072']\n['ATP 2015', 'sr', '5166']\n['ATP 2015', 'sr', '4888']\n['ATP 2015', 'sr', '5713']\n['ATP 2015', 'sr', '4499']\n['ATP 2015', 'sr', '3593']\n['ATP 2015', 'sr', '2979']\n['ATP 2015', 'sr', '5870']\n['NFL 2019', 'colley', '7505']\n['NFL 2019', 'colley', '4888']\n['NFL 2019', 'colley', '5651']\n['NFL 2019', 'colley', '4360']\n['NFL 2019', 'colley', '4407']\n['NFL 2019', 'colley', '7677']\n['NFL 2019', 'colley', '4367']\n['NFL 2019', 'colley', '3313']\n['NFL 2019', 'colley', '4969']\n['NFL 2019', 'colley', '5427']\n['NFL 2019', 'wp', '4956']\n['NFL 2019', 'wp', '6420']\n['NFL 2019', 'wp', '5377']\n['NFL 2019', 'wp', '3606']\n['NFL 2019', 'wp', '5278']\n['NFL 2019', 'wp', '4695']\n['NFL 2019', 'wp', '4408']\n['NFL 2019', 'wp', '6180']\n['NFL 2019', 'wp', '6531']\n['NFL 2019', 'wp', '4968']\n['NFL 2019', 'sr', '6484']\n['NFL 2019', 'sr', '6197']\n['NFL 2019', 'sr', '5755']\n['NFL 2019', 'sr', '7152']\n['NFL 2019', 'sr', '7863']\n['NFL 2019', 'sr', '6612']\n['NFL 2019', 'sr', '3993']\n['NFL 2019', 'sr', '6412']\n['NFL 2019', 'sr', '5491']\n['NFL 2019', 'sr', '3878']\n['NHL 2019', 'colley', '4845']\n['NHL 2019', 'colley', '4074']\n['NHL 2019', 'colley', '4276']\n['NHL 2019', 'colley', '3078']\n['NHL 2019', 'colley', '4829']\n['NHL 2019', 'colley', '4443']\n['NHL 2019', 'colley', '3760']\n['NHL 2019', 'colley', '3264']\n['NHL 2019', 'colley', '4967']\n['NHL 2019', 'colley', '3934']\n['NHL 2019', 'wp', '3663']\n['NHL 2019', 'wp', '3241']\n['NHL 2019', 'wp', '5016']\n['NHL 2019', 'wp', '4940']\n['NHL 2019', 'wp', '3307']\n['NHL 2019', 'wp', '4329']\n['NHL 2019', 'wp', '4204']\n['NHL 2019', 'wp', '4543']\n['NHL 2019', 'wp', '3230']\n['NHL 2019', 'wp', '3659']\n['NHL 2019', 'sr', '4377']\n['NHL 2019', 'sr', '4229']\n['NHL 2019', 'sr', '3314']\n['NHL 2019', 'sr', '2945']\n['NHL 2019', 'sr', '4771']\n['NHL 2019', 'sr', '4558']\n['NHL 2019', 'sr', '3308']\n['NHL 2019', 'sr', '2765']\n['NHL 2019', 'sr', '5132']\n['NHL 2019', 'sr', '6510']\n"
    }
   ],
   "source": [
    "import datetime\n",
    "\n",
    "columnas = [\"dataset\", \"metodo\",\"tiempo\"];\n",
    "filas = []\n",
    "input = [\"nba/nba_2016_scores.dat\",\n",
    "         \"atp/atp_matches_2015.dat\",\n",
    "         \"nfl/nfl_2019.dat\",\n",
    "         \"nhl/nhl_2019.dat\"]\n",
    "metodos = [\"colley\",\"wp\",\"sr\"]\n",
    "datasets = [\"NBA 2016\",\"ATP 2015\",\"NFL 2019\",\"NHL 2019\"]\n",
    "\n",
    "cant_exp = 10\n",
    "for n_ds in range(len(input)):\n",
    "    for n_met in range(len(metodos)):\n",
    "        for i in range(cant_exp):\n",
    "            fila_actual = []\n",
    "            fila_actual.append(datasets[n_ds])\n",
    "            fila_actual.append(metodos[n_met])\n",
    "\n",
    "            init = datetime.datetime.now()\n",
    "            correr_experimento(str(n_met), f\"{input[n_ds]}\", f\"Exp4/{input[n_ds]}_{n_met}.out\")\n",
    "            end = datetime.datetime.now()\n",
    "            time=end-init  \n",
    "            fila_actual.append(str(time.microseconds))\n",
    "\n",
    "            filas.append(fila_actual)\n",
    "            print(fila_actual)\n",
    "\n",
    "resultado = pd.DataFrame(filas, columns=columnas);\n",
    "resultado.to_csv(F\"Exp4/resultado_exp4.csv\", index=False, header=True);"
   ]
  },
  {
   "cell_type": "code",
   "execution_count": null,
   "metadata": {},
   "outputs": [],
   "source": []
  }
 ]
}