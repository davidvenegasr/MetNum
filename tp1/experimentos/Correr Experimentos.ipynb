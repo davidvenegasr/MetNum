{
 "cells": [
  {
   "cell_type": "markdown",
   "metadata": {},
   "source": [
    "#### TP1 -- #Grupo 17\n",
    "\n",
    "# Experimentación\n",
    "En el presente cuaderno de Jupiter se corren los experimentos planteados y se escriben los resultados en archivos .CSV en la carpeta de resultados para luego ser analizados en el notebook de Analisis de Datos."
   ]
  },
  {
   "cell_type": "code",
   "execution_count": 1,
   "metadata": {},
   "outputs": [],
   "source": [
    "import math, subprocess\n",
    "import pandas as pd\n",
    "import numpy as np\n",
    "import random\n",
    "import filecmp\n",
    "from IPython.display import display, clear_output"
   ]
  },
  {
   "cell_type": "code",
   "execution_count": 2,
   "metadata": {
    "tags": []
   },
   "outputs": [],
   "source": [
    "%%capture\n",
    "subprocess.Popen([\"make\"], stdout=subprocess.PIPE, cwd=\"../src\")"
   ]
  },
  {
   "cell_type": "code",
   "execution_count": 3,
   "metadata": {},
   "outputs": [],
   "source": [
    "# funcion para correr experimento en C++\n",
    "def correr_experimento(metodo, input, output):\n",
    "     process = subprocess.Popen([\"../src/tp1\", input, output, metodo], stderr=subprocess.PIPE, stdout=subprocess.PIPE, stdin=subprocess.PIPE, universal_newlines = True)\n"
   ]
  },
  {
   "cell_type": "code",
   "execution_count": 4,
   "metadata": {},
   "outputs": [],
   "source": [
    "# Corremos los tests de la catedra para hacer el analisis de dif absoluta\n",
    "correr_experimento(\"0\", \"test_completos/test_completo_10_1.in\", \"test_completos/test_completo_10_11.out\")\n",
    "correr_experimento(\"0\", \"test_completos/test_completo_100_4.in\", \"test_completos/test_completo_10_11.out\")\n",
    "correr_experimento(\"0\", \"tes t_completos/test_completo_1000_8.in\", \"test_completos/test_completo_10_11.out\")"
   ]
  },
  {
   "cell_type": "code",
   "execution_count": 5,
   "metadata": {},
   "outputs": [],
   "source": [
    "# funcion para correr experimento con los 3 metodos \n",
    "def experimentar(input, output):\n",
    "    for i in range(3):\n",
    "        correr_experimento(str(i), f\"{input}.dat\", f\"{output}_{i}.out\")\n",
    "    "
   ]
  },
  {
   "cell_type": "code",
   "execution_count": 6,
   "metadata": {},
   "outputs": [],
   "source": [
    "# corremos los experimentos con los 3 metodos estudiados\n",
    "experimentar(\"nba/nba_2016_scores\",\"nba/nba_2016_scores\")\n",
    "experimentar(\"nfl/nfl_2019\", \"nfl/nfl_2019\")"
   ]
  },
  {
   "cell_type": "markdown",
   "metadata": {},
   "source": [
    "## Experimento 1 -  Fuerza de los Oponentes:\n",
    "\n",
    "Tenemos dos datasets adhoc, uno con una temporada perfecta para el primer equipo y otro con un upset . LUego estos seran analizados en detalles en el notebook Analisis de Experimentos\n"
   ]
  },
  {
   "cell_type": "code",
   "execution_count": 7,
   "metadata": {},
   "outputs": [],
   "source": [
    "#Caso chico\n",
    "experimentar(\"dataset_adhoc/perfect_season\",\"dataset_adhoc/perfect_season\")\n",
    "experimentar(\"dataset_adhoc/upset_in_perfect_season\",\"dataset_adhoc/upset_in_perfect_season\")\n",
    "#Caso grande NBA\n",
    "experimentar(\"dataset_adhoc/nba_2016_scores\",\"dataset_adhoc/nba_2016_scores\")\n",
    "#Se modifico esta linea 20151102 6 103 23 117 para que Philadelphia, el ultimo equipo le gane a uno de los primeros Cleveland\n",
    "experimentar(\"dataset_adhoc/upset_nba_2016_scores\",\"dataset_adhoc/upset_nba_2016_scores\")"
   ]
  },
  {
   "cell_type": "markdown",
   "metadata": {},
   "source": [
    "\n",
    "## Experimento 2 -  Relevancia del Orden de los Eventos:\n",
    "\n",
    "Queremos ver si alterando la sequencia de partidos cambia el resultado"
   ]
  },
  {
   "cell_type": "code",
   "execution_count": 8,
   "metadata": {},
   "outputs": [],
   "source": [
    "# Queremos crear un archivo con el orden invertido de los partidos.\n",
    "def cambiar_orden(dir):\n",
    "    file = open(f\"{dir}.dat\", \"r\")\n",
    "    list = file.readlines()\n",
    "    file.close()\n",
    "    l1 = list[0]\n",
    "    list = list[1:] \n",
    "    list.reverse()\n",
    "    list = [l1] + list\n",
    "    file = open(f\"{dir}_reversed.dat\", \"w\")\n",
    "    for value in list:\n",
    "        file.write(value)\n",
    "    file.close()\n",
    "\n",
    "    # y otro archivo con un orden aleatorio.\n",
    "    file = open(f\"{dir}.dat\", \"r\")\n",
    "    list = file.readlines()\n",
    "    file.close()\n",
    "    l1 = list[0]\n",
    "    list= list[1:]\n",
    "    random.shuffle(list)\n",
    "    list = [l1] + list\n",
    "    file = open(f\"{dir}_random.dat\", \"w\")\n",
    "    for value in list:\n",
    "        file.write(value)\n",
    "    file.close() "
   ]
  },
  {
   "cell_type": "code",
   "execution_count": 9,
   "metadata": {},
   "outputs": [],
   "source": [
    "# funcion para comaparar si hubo cambios al modificar el orden\n",
    "def comparar():\n",
    "    flag_diferencias = False\n",
    "    datasets = [\"nba/nba_2016_scores\",\n",
    "                \"nfl/nfl_2019\",\"atp/atp_matches_2015\",\"nhl/nhl_2019\"]\n",
    "    for d in datasets:\n",
    "        cambiar_orden(d)\n",
    "        #experimentamos con el dataset origininal\n",
    "        experimentar(d,d)\n",
    "        #luego con el invertido y el aleatorio\n",
    "        experimentar(f'{d}_reversed',f'{d}_reversed')\n",
    "        experimentar(f'{d}_random',f'{d}_random')\n",
    "        for i in range(3):\n",
    "            #comparamos si el resultado es el mismo\n",
    "            dir1=f'{d}_{i}.out'\n",
    "            dir2=f'{d}_reversed_{i}.out'\n",
    "            if (not filecmp.cmp(dir1,dir2,shallow=False) ):\n",
    "                flag_diferencias = True\n",
    "                print(\"Diferencias encontradas en \", dir1)\n",
    "    if(not flag_diferencias):\n",
    "        print(\"No se encontraron diferencias\")\n"
   ]
  },
  {
   "cell_type": "code",
   "execution_count": 10,
   "metadata": {
    "tags": []
   },
   "outputs": [
    {
     "name": "stdout",
     "output_type": "stream",
     "text": [
      "No se encontraron diferencias\n"
     ]
    }
   ],
   "source": [
    "comparar()"
   ]
  },
  {
   "cell_type": "markdown",
   "metadata": {},
   "source": [
    "## Experimento 3 -  Independencia de los partidos:"
   ]
  },
  {
   "cell_type": "code",
   "execution_count": 11,
   "metadata": {},
   "outputs": [],
   "source": [
    "#Caso chico\n",
    "experimentar(\"Exp3/test_1\",\"Exp3/out/test_1.dat\")\n",
    "#Se modificaron valores arbitrarios, sin afectar a los equipos 1 y 2\n",
    "experimentar(\"Exp3/test_1_mod1\",\"Exp3/out/test_1_mod1\")\n",
    "experimentar(\"Exp3/test_1_mod2\",\"Exp3/out/test_1_mod2\")\n",
    "experimentar(\"Exp3/test_1_mod3\",\"Exp3/out/test_1_mod3\")\n",
    "\n",
    "#Caso grande NFL --------------------------------------\n",
    "#MEJOR EQUIPO (NFC): San Francisco (id=28)\n",
    "#1er PEOR EQUIPO (AFC): Cincinatti (id=7)\n",
    "#2do PEOR EQUIPO (AFC): Miami (id=20)\n",
    "\n",
    "#dataset original: nfl_2019.dat\n",
    "experimentar(\"Exp3/nfl_2019\",\"Exp3/out/nfl_2019\")\n",
    "\n",
    "#Se modifica linea 234: \"20191222 20 38 7 35\" por \"20191222 20 35 7 38\"\n",
    "# a favor de Cincinatti\n",
    "\n",
    "#Se espera que en Colley se sienta esa diferencia\n",
    "experimentar(\"Exp3/nfl_2019_mod\",\"Exp3/out/nfl_2019_mod\")"
   ]
  },
  {
   "cell_type": "markdown",
   "metadata": {},
   "source": [
    "## Experimento 4 -  Tiempo:"
   ]
  },
  {
   "cell_type": "code",
   "execution_count": 12,
   "metadata": {
    "tags": []
   },
   "outputs": [
    {
     "data": {
      "text/html": [
       "<div>\n",
       "<style scoped>\n",
       "    .dataframe tbody tr th:only-of-type {\n",
       "        vertical-align: middle;\n",
       "    }\n",
       "\n",
       "    .dataframe tbody tr th {\n",
       "        vertical-align: top;\n",
       "    }\n",
       "\n",
       "    .dataframe thead th {\n",
       "        text-align: right;\n",
       "    }\n",
       "</style>\n",
       "<table border=\"1\" class=\"dataframe\">\n",
       "  <thead>\n",
       "    <tr style=\"text-align: right;\">\n",
       "      <th></th>\n",
       "      <th>dataset</th>\n",
       "      <th>metodo</th>\n",
       "      <th>tiempo</th>\n",
       "    </tr>\n",
       "  </thead>\n",
       "  <tbody>\n",
       "    <tr>\n",
       "      <th>0</th>\n",
       "      <td>NBA 2016</td>\n",
       "      <td>colley</td>\n",
       "      <td>3634</td>\n",
       "    </tr>\n",
       "    <tr>\n",
       "      <th>1</th>\n",
       "      <td>NBA 2016</td>\n",
       "      <td>colley</td>\n",
       "      <td>3003</td>\n",
       "    </tr>\n",
       "    <tr>\n",
       "      <th>2</th>\n",
       "      <td>NBA 2016</td>\n",
       "      <td>colley</td>\n",
       "      <td>3233</td>\n",
       "    </tr>\n",
       "    <tr>\n",
       "      <th>3</th>\n",
       "      <td>NBA 2016</td>\n",
       "      <td>colley</td>\n",
       "      <td>4598</td>\n",
       "    </tr>\n",
       "    <tr>\n",
       "      <th>4</th>\n",
       "      <td>NBA 2016</td>\n",
       "      <td>colley</td>\n",
       "      <td>3603</td>\n",
       "    </tr>\n",
       "    <tr>\n",
       "      <th>...</th>\n",
       "      <td>...</td>\n",
       "      <td>...</td>\n",
       "      <td>...</td>\n",
       "    </tr>\n",
       "    <tr>\n",
       "      <th>115</th>\n",
       "      <td>NHL 2019</td>\n",
       "      <td>sr</td>\n",
       "      <td>3255</td>\n",
       "    </tr>\n",
       "    <tr>\n",
       "      <th>116</th>\n",
       "      <td>NHL 2019</td>\n",
       "      <td>sr</td>\n",
       "      <td>3638</td>\n",
       "    </tr>\n",
       "    <tr>\n",
       "      <th>117</th>\n",
       "      <td>NHL 2019</td>\n",
       "      <td>sr</td>\n",
       "      <td>3328</td>\n",
       "    </tr>\n",
       "    <tr>\n",
       "      <th>118</th>\n",
       "      <td>NHL 2019</td>\n",
       "      <td>sr</td>\n",
       "      <td>3328</td>\n",
       "    </tr>\n",
       "    <tr>\n",
       "      <th>119</th>\n",
       "      <td>NHL 2019</td>\n",
       "      <td>sr</td>\n",
       "      <td>3205</td>\n",
       "    </tr>\n",
       "  </tbody>\n",
       "</table>\n",
       "<p>120 rows × 3 columns</p>\n",
       "</div>"
      ],
      "text/plain": [
       "      dataset  metodo tiempo\n",
       "0    NBA 2016  colley   3634\n",
       "1    NBA 2016  colley   3003\n",
       "2    NBA 2016  colley   3233\n",
       "3    NBA 2016  colley   4598\n",
       "4    NBA 2016  colley   3603\n",
       "..        ...     ...    ...\n",
       "115  NHL 2019      sr   3255\n",
       "116  NHL 2019      sr   3638\n",
       "117  NHL 2019      sr   3328\n",
       "118  NHL 2019      sr   3328\n",
       "119  NHL 2019      sr   3205\n",
       "\n",
       "[120 rows x 3 columns]"
      ]
     },
     "metadata": {},
     "output_type": "display_data"
    }
   ],
   "source": [
    "import datetime\n",
    "\n",
    "columnas = [\"dataset\", \"metodo\",\"tiempo\"];\n",
    "filas = []\n",
    "input = [\"nba/nba_2016_scores.dat\",\n",
    "         \"atp/atp_matches_2015.dat\",\n",
    "         \"nfl/nfl_2019.dat\",\n",
    "         \"nhl/nhl_2019.dat\"]\n",
    "metodos = [\"colley\",\"wp\",\"sr\"]\n",
    "datasets = [\"NBA 2016\",\"ATP 2015\",\"NFL 2019\",\"NHL 2019\"]\n",
    "\n",
    "cant_exp = 10\n",
    "for n_ds in range(len(input)):\n",
    "    for n_met in range(len(metodos)):\n",
    "        for i in range(cant_exp):\n",
    "            fila_actual = []\n",
    "            fila_actual.append(datasets[n_ds])\n",
    "            fila_actual.append(metodos[n_met])\n",
    "\n",
    "            init = datetime.datetime.now()\n",
    "            correr_experimento(str(n_met), f\"{input[n_ds]}\", f\"Exp4/{input[n_ds]}_{n_met}.out\")\n",
    "            end = datetime.datetime.now()\n",
    "            time=end-init  \n",
    "            fila_actual.append(str(time.microseconds))\n",
    "\n",
    "            filas.append(fila_actual)\n",
    "            #print(fila_actual)\n",
    "\n",
    "resultado = pd.DataFrame(filas, columns=columnas);\n",
    "resultado.to_csv(F\"Exp4/resultado_exp4.csv\", index=False, header=True);\n",
    "display(resultado)"
   ]
  },
  {
   "cell_type": "code",
   "execution_count": null,
   "metadata": {},
   "outputs": [],
   "source": []
  },
  {
   "cell_type": "code",
   "execution_count": null,
   "metadata": {},
   "outputs": [],
   "source": []
  }
 ],
 "metadata": {
  "kernelspec": {
   "display_name": "Python 3",
   "language": "python",
   "name": "python3"
  },
  "language_info": {
   "codemirror_mode": {
    "name": "ipython",
    "version": 3
   },
   "file_extension": ".py",
   "mimetype": "text/x-python",
   "name": "python",
   "nbconvert_exporter": "python",
   "pygments_lexer": "ipython3",
   "version": "3.6.9"
  }
 },
 "nbformat": 4,
 "nbformat_minor": 2
}
