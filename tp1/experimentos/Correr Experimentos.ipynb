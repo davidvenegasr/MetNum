{
 "cells": [
  {
   "cell_type": "markdown",
   "metadata": {},
   "source": [
    "#### TP1 -- #Grupo 17\n",
    "\n",
    "# Experimentación\n",
    "En el presente cuaderno de Jupiter se corren los experimentos planteados y se escriben los resultados en archivos .CSV en la carpeta de resultados para luego ser analizados en el notebook de Analisis de Datos."
   ]
  },
  {
   "cell_type": "code",
   "execution_count": null,
   "metadata": {},
   "outputs": [],
   "source": [
    "import math, subprocess\n",
    "import pandas as pd\n",
    "import numpy as np\n",
    "import random\n",
    "import filecmp\n",
    "from IPython.display import display, clear_output"
   ]
  },
  {
   "cell_type": "code",
   "execution_count": null,
   "metadata": {
    "tags": []
   },
   "outputs": [],
   "source": [
    "%%capture\n",
    "subprocess.Popen([\"make\"], stdout=subprocess.PIPE, cwd=\"../src\")"
   ]
  },
  {
   "cell_type": "code",
   "execution_count": null,
   "metadata": {},
   "outputs": [],
   "source": [
    "# funcion para correr experimento en C++\n",
    "def correr_experimento(metodo, input, output):\n",
    "     process = subprocess.Popen([\"../src/tp1\", input, output, metodo], stderr=subprocess.PIPE, stdout=subprocess.PIPE, stdin=subprocess.PIPE, universal_newlines = True)\n"
   ]
  },
  {
   "cell_type": "code",
   "execution_count": null,
   "metadata": {},
   "outputs": [],
   "source": [
    "# Corremos los tests de la catedra para hacer el analisis de dif absoluta\n",
    "correr_experimento(\"0\", \"test_completos/test_completo_10_1.in\", \"test_completos/test_completo_10_11.out\")\n",
    "correr_experimento(\"0\", \"test_completos/test_completo_100_4.in\", \"test_completos/test_completo_100_4.out\")\n",
    "correr_experimento(\"0\", \"test_completos/test_completo_1000_8.in\", \"test_completos/test_completo_1000_8.out\")"
   ]
  },
  {
   "cell_type": "code",
   "execution_count": null,
   "metadata": {},
   "outputs": [],
   "source": [
    "# funcion para correr experimento con los 3 metodos \n",
    "def experimentar(input, output):\n",
    "    for i in range(3):\n",
    "        correr_experimento(str(i), f\"{input}.dat\", f\"{output}_{i}.out\")\n",
    "    "
   ]
  },
  {
   "cell_type": "code",
   "execution_count": null,
   "metadata": {},
   "outputs": [],
   "source": [
    "# corremos los experimentos con los 3 metodos estudiados\n",
    "experimentar(\"nba/nba_2016_scores\",\"nba/nba_2016_scores\")\n",
    "experimentar(\"nfl/nfl_2019\", \"nfl/nfl_2019\")\n",
    "experimentar(\"nhl/nhl_2019\", \"nhl/nhl_2019\")\n",
    "experimentar(\"atp/atp_matches_2015\", \"atp/atp_matches_2015\")\n",
    "\n"
   ]
  },
  {
   "source": [
    "#### Experimento adicional del analisis cualitativo de ATP"
   ],
   "cell_type": "markdown",
   "metadata": {}
  },
  {
   "cell_type": "code",
   "execution_count": null,
   "metadata": {},
   "outputs": [],
   "source": [
    "# Copiado el script de la catedra atp2mn.py\n",
    "import csv\n",
    "\n",
    "input_path = '../data/atp_matches_2015.csv'\n",
    "output_path = 'atp/ej_cualitativo/atp_filtered_2015.dat'\n",
    "torneos = [\"Australian Open\", \"Roland Garros\", \"Wimbledon\", \"US Open\", \"Masters\", \"Tour Finals\", \"Challenger Tour Finals\"]\n",
    "\n",
    "with open(input_path,'r') as csvfile,open(output_path,'w') as outfile:\n",
    "    score_reader = csv.reader(csvfile,delimiter=',',skipinitialspace=True)\n",
    "    # Skip the header\n",
    "    next(score_reader, None)\n",
    "    teams = set()\n",
    "    n_games = 0\n",
    "    # String with info of the games.\n",
    "    out_str = ''\n",
    "    for row in score_reader:\n",
    "        # Agrego condicion para que solo se quede con los torneos que quiero\n",
    "        string = row[1]\n",
    "        for torneo in torneos:\n",
    "            if torneo in string:\n",
    "                teams.add(row[7])\n",
    "                teams.add(row[17])\n",
    "                n_games = n_games+1\n",
    "                #out_str = out_str + row[1] + ' ' + row[5] + ' ' + row[7] + ' ' + '1' + ' ' + row[17] + ' ' + '0' + '\\n'\n",
    "                out_str = out_str + row[5] + ' ' + row[7] + ' ' + '1' + ' ' + row[17] + ' ' + '0' + '\\n'\n",
    "            continue\n",
    "    # Write number of teams and games\n",
    "    outfile.write(str(len(teams)) + ' ' + str(n_games) + '\\n')\n",
    "    # Write games details\n",
    "    outfile.write(out_str)\n",
    "    print(\"Filter done\")\n",
    "\n",
    "#Correr experimento adicional para ATP (Analisis Cualitativo)\n",
    "experimentar(\"atp/ej_cualitativo/atp_filtered_2015\", \"atp/ej_cualitativo/atp_filtered_2015\")"
   ]
  },
  {
   "cell_type": "markdown",
   "metadata": {},
   "source": [
    "## Experimento 1 -  Fuerza de los Oponentes:\n",
    "\n",
    "Tenemos dos datasets adhoc, uno con una temporada perfecta para el primer equipo y otro con un upset . LUego estos seran analizados en detalles en el notebook Analisis de Experimentos\n"
   ]
  },
  {
   "cell_type": "code",
   "execution_count": null,
   "metadata": {},
   "outputs": [],
   "source": [
    "#Caso chico\n",
    "experimentar(\"dataset_adhoc/perfect_season\",\"dataset_adhoc/perfect_season\")\n",
    "experimentar(\"dataset_adhoc/upset_in_perfect_season\",\"dataset_adhoc/upset_in_perfect_season\")\n",
    "#Caso grande NBA\n",
    "experimentar(\"dataset_adhoc/nba_2016_scores\",\"dataset_adhoc/nba_2016_scores\")\n",
    "#Se modifico esta linea 20151102 6 103 23 117 para que Philadelphia, el ultimo equipo le gane a uno de los primeros Cleveland\n",
    "experimentar(\"dataset_adhoc/upset_nba_2016_scores\",\"dataset_adhoc/upset_nba_2016_scores\")"
   ]
  },
  {
   "cell_type": "markdown",
   "metadata": {},
   "source": [
    "\n",
    "## Experimento 2 -  Relevancia del Orden de los Eventos:\n",
    "\n",
    "Queremos ver si alterando la sequencia de partidos cambia el resultado"
   ]
  },
  {
   "cell_type": "code",
   "execution_count": null,
   "metadata": {},
   "outputs": [],
   "source": [
    "# Queremos crear un archivo con el orden invertido de los partidos.\n",
    "def cambiar_orden(dir):\n",
    "    file = open(f\"{dir}.dat\", \"r\")\n",
    "    list = file.readlines()\n",
    "    file.close()\n",
    "    l1 = list[0]\n",
    "    list = list[1:] \n",
    "    list.reverse()\n",
    "    list = [l1] + list\n",
    "    file = open(f\"{dir}_reversed.dat\", \"w\")\n",
    "    for value in list:\n",
    "        file.write(value)\n",
    "    file.close()\n",
    "\n",
    "    # y otro archivo con un orden aleatorio.\n",
    "    file = open(f\"{dir}.dat\", \"r\")\n",
    "    list = file.readlines()\n",
    "    file.close()\n",
    "    l1 = list[0]\n",
    "    list= list[1:]\n",
    "    random.shuffle(list)\n",
    "    list = [l1] + list\n",
    "    file = open(f\"{dir}_random.dat\", \"w\")\n",
    "    for value in list:\n",
    "        file.write(value)\n",
    "    file.close() "
   ]
  },
  {
   "cell_type": "code",
   "execution_count": null,
   "metadata": {},
   "outputs": [],
   "source": [
    "# funcion para comaparar si hubo cambios al modificar el orden\n",
    "def comparar():\n",
    "    flag_diferencias = False\n",
    "    datasets = [\"nba/nba_2016_scores\",\n",
    "                \"nfl/nfl_2019\",\"atp/atp_matches_2015\",\"nhl/nhl_2019\"]\n",
    "    for d in datasets:\n",
    "        cambiar_orden(d)\n",
    "        #experimentamos con el dataset origininal\n",
    "        experimentar(d,d)\n",
    "        #luego con el invertido y el aleatorio\n",
    "        experimentar(f'{d}_reversed',f'{d}_reversed')\n",
    "        experimentar(f'{d}_random',f'{d}_random')\n",
    "        for i in range(3):\n",
    "            #comparamos si el resultado es el mismo\n",
    "            dir1=f'{d}_{i}.out'\n",
    "            dir2=f'{d}_reversed_{i}.out'\n",
    "            if (not filecmp.cmp(dir1,dir2,shallow=False) ):\n",
    "                flag_diferencias = True\n",
    "                print(\"Diferencias encontradas en \", dir1)\n",
    "    if(not flag_diferencias):\n",
    "        print(\"No se encontraron diferencias\")\n"
   ]
  },
  {
   "cell_type": "code",
   "execution_count": null,
   "metadata": {
    "tags": []
   },
   "outputs": [],
   "source": [
    "comparar()"
   ]
  },
  {
   "cell_type": "markdown",
   "metadata": {},
   "source": [
    "## Experimento 3 -  Independencia de los partidos:"
   ]
  },
  {
   "cell_type": "code",
   "execution_count": null,
   "metadata": {},
   "outputs": [],
   "source": [
    "#Caso chico\n",
    "experimentar(\"Exp3/test_1\",\"Exp3/out/test_1.dat\")\n",
    "#Se modificaron valores arbitrarios, sin afectar a los equipos 1 y 2\n",
    "experimentar(\"Exp3/test_1_mod1\",\"Exp3/out/test_1_mod1\")\n",
    "experimentar(\"Exp3/test_1_mod2\",\"Exp3/out/test_1_mod2\")\n",
    "experimentar(\"Exp3/test_1_mod3\",\"Exp3/out/test_1_mod3\")\n",
    "\n",
    "#Caso grande NFL --------------------------------------\n",
    "#MEJOR EQUIPO (NFC): San Francisco (id=28)\n",
    "#1er PEOR EQUIPO (AFC): Cincinatti (id=7)\n",
    "#2do PEOR EQUIPO (AFC): Miami (id=20)\n",
    "\n",
    "#dataset original: nfl_2019.dat\n",
    "experimentar(\"Exp3/nfl_2019\",\"Exp3/out/nfl_2019\")\n",
    "\n",
    "#Se modifica linea 234: \"20191222 20 38 7 35\" por \"20191222 20 35 7 38\"\n",
    "# a favor de Cincinatti\n",
    "\n",
    "#Se espera que en Colley se sienta esa diferencia\n",
    "experimentar(\"Exp3/nfl_2019_mod\",\"Exp3/out/nfl_2019_mod\")"
   ]
  },
  {
   "cell_type": "markdown",
   "metadata": {},
   "source": [
    "## Experimento 4 -  Tiempo:"
   ]
  },
  {
   "cell_type": "code",
   "execution_count": null,
   "metadata": {
    "tags": []
   },
   "outputs": [],
   "source": [
    "import datetime\n",
    "\n",
    "columnas = [\"dataset\", \"metodo\",\"tiempo\"];\n",
    "filas = []\n",
    "input = [\"nba/nba_2016_scores.dat\",\n",
    "         \"atp/atp_matches_2015.dat\",\n",
    "         \"nfl/nfl_2019.dat\",\n",
    "         \"nhl/nhl_2019.dat\"]\n",
    "metodos = [\"colley\",\"wp\",\"sr\"]\n",
    "datasets = [\"NBA 2016\",\"ATP 2015\",\"NFL 2019\",\"NHL 2019\"]\n",
    "\n",
    "cant_exp = 50\n",
    "for n_ds in range(len(input)):\n",
    "    for n_met in range(len(metodos)):\n",
    "        for i in range(cant_exp):\n",
    "            fila_actual = []\n",
    "            fila_actual.append(datasets[n_ds])\n",
    "            fila_actual.append(metodos[n_met])\n",
    "\n",
    "            init = datetime.datetime.now()\n",
    "            correr_experimento(str(n_met), f\"{input[n_ds]}\", f\"Exp4/{input[n_ds]}_{n_met}.out\")\n",
    "            end = datetime.datetime.now()\n",
    "            time=end-init  \n",
    "            fila_actual.append(str(time.microseconds))\n",
    "\n",
    "            filas.append(fila_actual)\n",
    "            #print(fila_actual)\n",
    "\n",
    "resultado = pd.DataFrame(filas, columns=columnas);\n",
    "resultado.to_csv(F\"Exp4/resultado_exp4.csv\", index=False, header=True);\n",
    "display(resultado)"
   ]
  },
  {
   "source": [
    "#### Experimento adicional\n"
   ],
   "cell_type": "markdown",
   "metadata": {}
  },
  {
   "cell_type": "code",
   "execution_count": null,
   "metadata": {},
   "outputs": [],
   "source": [
    "# funcion para correr experimento en C++ del tp1 modificado con retorno del tiempo de ejecucion\n",
    "def correr_experimento_time_mod(metodo, input, output):\n",
    "     process = subprocess.Popen([\"../src/tp1\", input, output, metodo], stderr=subprocess.PIPE, stdout=subprocess.PIPE, stdin=subprocess.PIPE, universal_newlines = True)\n",
    "     tiempo_de_ejecucion = process.stderr.read()\n",
    "     return tiempo_de_ejecucion"
   ]
  },
  {
   "cell_type": "code",
   "execution_count": null,
   "metadata": {},
   "outputs": [],
   "source": [
    "%%capture\n",
    "subprocess.Popen([\"make\"], stdout=subprocess.PIPE, cwd=\"../src\")"
   ]
  },
  {
   "cell_type": "code",
   "execution_count": null,
   "metadata": {},
   "outputs": [],
   "source": [
    "columnas = [\"dataset\", \"metodo\",\"tiempo\"];\n",
    "filas = []\n",
    "input = [\"nba/nba_2016_scores.dat\",\n",
    "         \"atp/atp_matches_2015.dat\",\n",
    "         \"nfl/nfl_2019.dat\",\n",
    "         \"nhl/nhl_2019.dat\"]\n",
    "metodos = [\"colley\",\"wp\",\"sr\"]\n",
    "datasets = [\"NBA 2016\",\"ATP 2015\",\"NFL 2019\",\"NHL 2019\"]\n",
    "\n",
    "cant_exp = 50\n",
    "for n_ds in range(len(input)):\n",
    "    for n_met in range(len(metodos)):\n",
    "        for i in range(cant_exp):\n",
    "            fila_actual = []\n",
    "            fila_actual.append(datasets[n_ds])\n",
    "            fila_actual.append(metodos[n_met])\n",
    "\n",
    "            time_exp = correr_experimento_time_mod(str(n_met), f\"{input[n_ds]}\", \"Exp4/aux_exp_time.out\")\n",
    "            fila_actual.append(time_exp)\n",
    "\n",
    "            filas.append(fila_actual)\n",
    "            #print(fila_actual)\n",
    "\n",
    "#borro el archivo auxiliar\n",
    "!rm Exp4/aux_exp_time.out\n",
    "\n",
    "resultado = pd.DataFrame(filas, columns=columnas);\n",
    "resultado.to_csv(F\"Exp4/resultado_exp4_time_mod.csv\", index=False, header=True);\n",
    "display(resultado)"
   ]
  },
  {
   "cell_type": "code",
   "execution_count": null,
   "metadata": {},
   "outputs": [],
   "source": []
  }
 ],
 "metadata": {
  "kernelspec": {
   "display_name": "Python 3",
   "language": "python",
   "name": "python3"
  },
  "language_info": {
   "codemirror_mode": {
    "name": "ipython",
    "version": 3
   },
   "file_extension": ".py",
   "mimetype": "text/x-python",
   "name": "python",
   "nbconvert_exporter": "python",
   "pygments_lexer": "ipython3",
   "version": "3.6.9-final"
  }
 },
 "nbformat": 4,
 "nbformat_minor": 2
}