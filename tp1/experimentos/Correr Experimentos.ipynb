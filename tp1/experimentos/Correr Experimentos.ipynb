{
 "metadata": {
  "language_info": {
   "codemirror_mode": {
    "name": "ipython",
    "version": 3
   },
   "file_extension": ".py",
   "mimetype": "text/x-python",
   "name": "python",
   "nbconvert_exporter": "python",
   "pygments_lexer": "ipython3",
   "version": "3.6.9-final"
  },
  "orig_nbformat": 2,
  "kernelspec": {
   "name": "python3",
   "display_name": "Python 3"
  }
 },
 "nbformat": 4,
 "nbformat_minor": 2,
 "cells": [
  {
   "source": [
    "#### TP1 -- #Grupo 17\n",
    "\n",
    "# Experimentación\n",
    "En el presente cuaderno de Jupiter se corren los experimentos planteados y se escriben los resultados en archivos .CSV en la carpeta de resultados para luego ser analizados en el notebook de Analisis de Datos."
   ],
   "cell_type": "markdown",
   "metadata": {}
  },
  {
   "cell_type": "code",
   "execution_count": 1,
   "metadata": {},
   "outputs": [],
   "source": [
    "import math, subprocess\n",
    "import pandas as pd\n",
    "import numpy as np\n",
    "import random\n",
    "import filecmp\n",
    "from IPython.display import display, clear_output"
   ]
  },
  {
   "cell_type": "code",
   "execution_count": 15,
   "metadata": {
    "tags": []
   },
   "outputs": [],
   "source": [
    "#Hacemos make para compilar\n",
    "%%capture\n",
    "subprocess.Popen([\"make\"], stdout=subprocess.PIPE, cwd=\"../src\")"
   ]
  },
  {
   "cell_type": "code",
   "execution_count": 3,
   "metadata": {},
   "outputs": [],
   "source": [
    "# funcion para correr experimento en C++\n",
    "def correr_experimento(metodo, input, output):\n",
    "     process = subprocess.Popen([\"../src/tp1\", input, output, metodo], stderr=subprocess.PIPE, stdout=subprocess.PIPE, stdin=subprocess.PIPE, universal_newlines = True)\n"
   ]
  },
  {
   "cell_type": "code",
   "execution_count": 4,
   "metadata": {},
   "outputs": [],
   "source": [
    "# Corremos los tests de la catedra para hacer el analisis de dif absoluta\n",
    "correr_experimento(\"0\", \"test_completos/test_completo_10_1.in\", \"test_completos/test_completo_10_11.out\")\n",
    "correr_experimento(\"0\", \"test_completos/test_completo_100_4.in\", \"test_completos/test_completo_10_11.out\")\n",
    "correr_experimento(\"0\", \"test_completos/test_completo_1000_8.in\", \"test_completos/test_completo_10_11.out\")"
   ]
  },
  {
   "cell_type": "code",
   "execution_count": 16,
   "metadata": {},
   "outputs": [],
   "source": [
    "# funcion para correr experimento con los 3 metodos \n",
    "def experimentar(input, output):\n",
    "    for i in range(3):\n",
    "        correr_experimento(str(i), f\"{input}.dat\", f\"{output}_{i}.out\")\n",
    "    "
   ]
  },
  {
   "cell_type": "code",
   "execution_count": 7,
   "metadata": {},
   "outputs": [],
   "source": [
    "# corremos los experimentos con los 3 metodos estudiados\n",
    "experimentar(\"nba/nba_2016_scores\",\"nba/nba_2016_scores\")"
   ]
  },
  {
   "source": [
    "## Experimento 1 -  Fuerza de los Oponentes:\n",
    "\n",
    "Tenemos dos datasets adhoc, uno con una temporada perfecta para el primer equipo y otro con un upset . LUego estos seran analizados en detalles en el notebook Analisis de Experimentos\n"
   ],
   "cell_type": "markdown",
   "metadata": {}
  },
  {
   "cell_type": "code",
   "execution_count": 9,
   "metadata": {},
   "outputs": [],
   "source": [
    "#Caso chico\n",
    "experimentar(\"dataset_adhoc/perfect_season\",\"dataset_adhoc/perfect_season\")\n",
    "experimentar(\"dataset_adhoc/upset_in_perfect_season\",\"dataset_adhoc/upset_in_perfect_season\")\n",
    "#Caso grande NBA\n",
    "experimentar(\"dataset_adhoc/nba_2016_scores\",\"dataset_adhoc/nba_2016_scores\")\n",
    "#Se modifico esta linea 20151102 6 103 23 117 para que Philadelphia, el ultimo equipo le gane a uno de los primeros Cleveland\n",
    "experimentar(\"dataset_adhoc/upset_nba_2016_scores\",\"dataset_adhoc/upset_nba_2016_scores\")"
   ]
  },
  {
   "source": [
    "\n",
    "## Experimento 2 -  Relevancia del Orden de los Eventos:\n",
    "\n",
    "Queremos ver si alterando la sequencia de partidos cambia el resultado"
   ],
   "cell_type": "markdown",
   "metadata": {}
  },
  {
   "cell_type": "code",
   "execution_count": 10,
   "metadata": {},
   "outputs": [],
   "source": [
    "# Queremos crear un archivo con el orden invertido de los partidos.\n",
    "def cambiar_orden(dir):\n",
    "    file = open(f\"{dir}.dat\", \"r\")\n",
    "    list = file.readlines()\n",
    "    file.close()\n",
    "    l1 = list[0]\n",
    "    list = list[1:] \n",
    "    list.reverse()\n",
    "    list = [l1] + list\n",
    "    file = open(f\"{dir}_reversed.dat\", \"w\")\n",
    "    for value in list:\n",
    "        file.write(value)\n",
    "    file.close()\n",
    "\n",
    "    # y otro archivo con un orden aleatorio.\n",
    "    file = open(f\"{dir}.dat\", \"r\")\n",
    "    list = file.readlines()\n",
    "    file.close()\n",
    "    l1 = list[0]\n",
    "    list= list[1:]\n",
    "    random.shuffle(list)\n",
    "    list = [l1] + list\n",
    "    file = open(f\"{dir}_random.dat\", \"w\")\n",
    "    for value in list:\n",
    "        file.write(value)\n",
    "    file.close() "
   ]
  },
  {
   "cell_type": "code",
   "execution_count": 17,
   "metadata": {},
   "outputs": [],
   "source": [
    "# funcion para comaparar si hubo cambios al modificar el orden\n",
    "def comparar():\n",
    "    flag_diferencias = False\n",
    "    datasets = [\"nba/nba_2016_scores\",\n",
    "                \"nfl/nfl_2019\",\"atp/atp_matches_2015\",\"nhl/nhl_2019\"]\n",
    "    for d in datasets:\n",
    "        cambiar_orden(d)\n",
    "        #experimentamos con el dataset origininal\n",
    "        experimentar(d,d)\n",
    "        #luego con el invertido y el aleatorio\n",
    "        experimentar(f'{d}_reversed',f'{d}_reversed')\n",
    "        experimentar(f'{d}_random',f'{d}_random')\n",
    "        for i in range(3):\n",
    "            #comparamos si el resultado es el mismo\n",
    "            dir1=f'{d}_{i}.out'\n",
    "            dir2=f'{d}_reversed_{i}.out'\n",
    "            if (not filecmp.cmp(dir1,dir2,shallow=False) ):\n",
    "                flag_diferencias = True\n",
    "                print(\"Diferencias encontradas en \", dir1)\n",
    "    if(not flag_diferencias):\n",
    "        print(\"No se encontraron diferencias\")\n"
   ]
  },
  {
   "cell_type": "code",
   "execution_count": 12,
   "metadata": {
    "tags": []
   },
   "outputs": [
    {
     "output_type": "stream",
     "name": "stdout",
     "text": "Diferencias encontradas en  nba/nba_2016_scores_2.out\nDiferencias encontradas en  nfl/nfl_2019_2.out\nDiferencias encontradas en  nhl/nhl_2019_2.out\n"
    }
   ],
   "source": [
    "comparar()"
   ]
  },
  {
   "source": [
    "## Experimento 3 -  Independencia de los partidos:"
   ],
   "cell_type": "markdown",
   "metadata": {}
  },
  {
   "source": [
    "## Experimento 4 -  Tiempo:"
   ],
   "cell_type": "markdown",
   "metadata": {}
  },
  {
   "cell_type": "code",
   "execution_count": 13,
   "metadata": {},
   "outputs": [
    {
     "output_type": "error",
     "ename": "IndentationError",
     "evalue": "unexpected indent (<ipython-input-13-14dbe154bd30>, line 3)",
     "traceback": [
      "\u001b[0;36m  File \u001b[0;32m\"<ipython-input-13-14dbe154bd30>\"\u001b[0;36m, line \u001b[0;32m3\u001b[0m\n\u001b[0;31m    filas = []\u001b[0m\n\u001b[0m    ^\u001b[0m\n\u001b[0;31mIndentationError\u001b[0m\u001b[0;31m:\u001b[0m unexpected indent\n"
     ]
    }
   ],
   "source": [
    "## idea de algo3, falta arreglar \n",
    "columnas = [\"equipo\", \"colley\",\"wp\",\"sr\"];\n",
    "    filas = []\n",
    "    for i in range (0,2)\n",
    "    numero = 1\n",
    "    T = 10 # Numero de veces que se ejecuta cada experimento (para mayor fidelidad).\n",
    "    for experimento in experimentos:\n",
    "        # Voy mostrando que experimento se esta ejecutando.\n",
    "        clear_output(wait=True)\n",
    "        display('Experimento: ' + str(numero) + \"/\" + str(len(experimentos)))\n",
    "        numero += 1\n",
    "\n",
    "        # Ejecutamos el experimento T veces y obtenemos la mediana.\n",
    "        tiempos = []\n",
    "        for i in range(0, T):\n",
    "            print(experimento)\n",
    "            tiempos.append(correr_experimento(experimento[2],experimento[3], experimento[4]));\n",
    "        tiempo = np.median(tiempos);\n",
    "        filas.append([experimento[0], experimento[1], experimento[2], experimento[3], tiempo]);\n",
    "    df_resultado = pd.DataFrame(filas, columns=columnas);\n",
    "    df_resultado.to_csv(F\"resultado_{nombre}.csv\", index=False, header=True);"
   ]
  },
  {
   "cell_type": "code",
   "execution_count": null,
   "metadata": {},
   "outputs": [],
   "source": []
  }
 ]
}