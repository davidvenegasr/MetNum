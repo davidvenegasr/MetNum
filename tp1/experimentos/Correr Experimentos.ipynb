{
 "metadata": {
  "language_info": {
   "codemirror_mode": {
    "name": "ipython",
    "version": 3
   },
   "file_extension": ".py",
   "mimetype": "text/x-python",
   "name": "python",
   "nbconvert_exporter": "python",
   "pygments_lexer": "ipython3",
   "version": "3.6.9-final"
  },
  "orig_nbformat": 2,
  "kernelspec": {
   "name": "python3",
   "display_name": "Python 3"
  }
 },
 "nbformat": 4,
 "nbformat_minor": 2,
 "cells": [
  {
   "source": [
    "#### TP1 -- #Grupo 17\n",
    "\n",
    "# Experimentación\n",
    "En el presente cuaderno de Jupiter se corren los experimentos planteados y se escriben los resultados en archivos .CSV en la carpeta de resultados."
   ],
   "cell_type": "markdown",
   "metadata": {}
  },
  {
   "cell_type": "code",
   "execution_count": 8,
   "metadata": {},
   "outputs": [],
   "source": [
    "import math, subprocess\n",
    "import pandas as pd\n",
    "import numpy as np\n",
    "from IPython.display import display, clear_output"
   ]
  },
  {
   "cell_type": "code",
   "execution_count": 23,
   "metadata": {},
   "outputs": [],
   "source": [
    "def correr_experimento(metodo, input, output):\n",
    "     process = subprocess.Popen([\"../src/tp1\", input, output, metodo], stderr=subprocess.PIPE, stdout=subprocess.PIPE, stdin=subprocess.PIPE, universal_newlines = True)\n"
   ]
  },
  {
   "cell_type": "code",
   "execution_count": 39,
   "metadata": {},
   "outputs": [],
   "source": [
    "correr_experimento(\"0\", \"test_completos/test_completo_10_1.in\", \"test_completos/test_completo_10_11.out\")\n",
    "correr_experimento(\"0\", \"test_completos/test_completo_100_4.in\", \"test_completos/test_completo_10_11.out\")\n",
    "correr_experimento(\"0\", \"test_completos/test_completo_1000_8.in\", \"test_completos/test_completo_10_11.out\")"
   ]
  },
  {
   "cell_type": "code",
   "execution_count": 29,
   "metadata": {},
   "outputs": [],
   "source": [
    "correr_experimento(\"0\", \"test_completos/test_completo_10_1.in\", \"test_completos/test_completo_10_11.out\")"
   ]
  },
  {
   "cell_type": "code",
   "execution_count": 36,
   "metadata": {},
   "outputs": [],
   "source": [
    "def experimentar(input, output):\n",
    "    for i in range(3):\n",
    "        correr_experimento(str(i), f\"{input}.in\", f\"{output}_{i}.out\")\n",
    "    "
   ]
  },
  {
   "cell_type": "code",
   "execution_count": 38,
   "metadata": {},
   "outputs": [],
   "source": [
    "experimentar(\"test_completos/test_completo_10_1\", \"test_completos/test_completo_10_11\")"
   ]
  },
  {
   "cell_type": "code",
   "execution_count": null,
   "metadata": {},
   "outputs": [],
   "source": [
    "columnas = [\"equipo\", \"colley\",\"wp\",\"sr\"];\n",
    "    filas = []\n",
    "    for i in range (0,2)\n",
    "    numero = 1\n",
    "    T = 10 # Numero de veces que se ejecuta cada experimento (para mayor fidelidad).\n",
    "    for experimento in experimentos:\n",
    "        # Voy mostrando que experimento se esta ejecutando.\n",
    "        clear_output(wait=True)\n",
    "        display('Experimento: ' + str(numero) + \"/\" + str(len(experimentos)))\n",
    "        numero += 1\n",
    "\n",
    "        # Ejecutamos el experimento T veces y obtenemos la mediana.\n",
    "        tiempos = []\n",
    "        for i in range(0, T):\n",
    "            print(experimento)\n",
    "            tiempos.append(correr_experimento(experimento[2],experimento[3], experimento[4]));\n",
    "        tiempo = np.median(tiempos);\n",
    "        filas.append([experimento[0], experimento[1], experimento[2], experimento[3], tiempo]);\n",
    "    df_resultado = pd.DataFrame(filas, columns=columnas);\n",
    "    df_resultado.to_csv(F\"resultado_{nombre}.csv\", index=False, header=True);"
   ]
  },
  {
   "source": [
    "## Experimentos\n",
    "A continuación se crea una tabla con las ejecuciones y sus respectivos tiempos."
   ],
   "cell_type": "markdown",
   "metadata": {}
  },
  {
   "cell_type": "code",
   "execution_count": null,
   "metadata": {},
   "outputs": [],
   "source": [
    "## Experimento 1:\n",
    "    Complejidad teorica de Colley, WP y Massey."
   ]
  }
 ]
}