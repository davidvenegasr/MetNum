{
 "cells": [
  {
   "cell_type": "markdown",
   "metadata": {},
   "source": [
    "#### TP1 -- #Grupo 17\n",
    "# Analisis de Datos"
   ]
  },
  {
   "cell_type": "markdown",
   "metadata": {},
   "source": [
    "## Analisis Cuantitativo \n",
    "    En esta seccion para analizar la diferencia del error absoluto entre Colley y los test de la catedra vamos a utilizar pandas para crear un dataframe y visualizar esta distribucion en un boxplot con seaborn. "
   ]
  },
  {
   "cell_type": "code",
   "execution_count": null,
   "metadata": {},
   "outputs": [],
   "source": [
    "import numpy as np\n",
    "import pandas as pd\n",
    "import seaborn as sns\n",
    "import matplotlib.pyplot as plt \n",
    "import filecmp\n",
    "from IPython.display import display, HTML"
   ]
  },
  {
   "cell_type": "markdown",
   "metadata": {},
   "source": [
    "# Analisis Cuantitativo"
   ]
  },
  {
   "cell_type": "code",
   "execution_count": null,
   "metadata": {
    "tags": []
   },
   "outputs": [],
   "source": [
    "# funcion para calcular la dif absoluta y graficar \n",
    "def dif_de_error(dir,color):\n",
    "    df = pd.read_csv(f\"{dir}.expected\", sep=\" \", names=[\"Catedra\"])\n",
    "    df_2 = pd.read_csv(f\"{dir}.out\", sep=\" \", header=None, names=[\"Colley\"])\n",
    "    df['Colley'] = df_2[\"Colley\"]\n",
    "    df['Diferencia absoluta'] = abs(df['Catedra']-df['Colley'])\n",
    "    name = dir.split('/')[-1]\n",
    "    #A partir de aca graficamos\n",
    "    my_colors = [color]\n",
    "    sns.set_palette(sns.color_palette(my_colors))\n",
    "    sns.set_style(\"whitegrid\")\n",
    "    ax = sns.boxplot(y=df[\"Diferencia absoluta\"])\n",
    "    ax.set_title(name)\n",
    "    fig = ax.get_figure()\n",
    "    fig.savefig(f\"graficos/{name}.png\")\n",
    "    plt.show()\n",
    "    print('La diferencia de caso: '+ name +' tiene un promedio de ' + str(df['Diferencia absoluta'].mean()) + ', una mediana de ' + str(df['Diferencia absoluta'].median()) +  ' y una desviacion de ' + str(df['Diferencia absoluta'].std()))"
   ]
  },
  {
   "cell_type": "code",
   "execution_count": null,
   "metadata": {
    "tags": []
   },
   "outputs": [],
   "source": [
    "# Graficamos los boxplots \n",
    "tests = [(\"test_completos/test_completo_100_4\", \"#B03A2E\" ),\n",
    "         (\"test_completos/test_completo_100_8\", \"#D4AC0D\"),\n",
    "         (\"test_completos/test_completo_1000_2\", \"#117A65\"),\n",
    "         (\"test_completos/test_completo_1000_8\", \"#7D3C98\")]\n",
    "for test in tests:\n",
    "    dif_de_error(test[0],test[1])"
   ]
  },
  {
   "cell_type": "markdown",
   "metadata": {},
   "source": [
    "# Analisis Cualitativo"
   ]
  },
  {
   "cell_type": "markdown",
   "metadata": {},
   "source": [
    "### Generar cuadros comparativos entre metodos\n",
    "    En esta seccion vamos a unir los resultados de los experimentos para visualizar como el metodo afecta un ranking"
   ]
  },
  {
   "cell_type": "markdown",
   "metadata": {},
   "source": [
    "## NBA"
   ]
  },
  {
   "cell_type": "code",
   "execution_count": null,
   "metadata": {
    "scrolled": false
   },
   "outputs": [],
   "source": [
    "df_CMM = open('nba/nba_2016_scores_0.out', 'r').readlines()\n",
    "df_WP = open('nba/nba_2016_scores_1.out', 'r').readlines()\n",
    "df_SR = open('nba/nba_2016_scores_2.out', 'r').readlines()\n",
    "columnCMM = []\n",
    "columnWP = []\n",
    "columnSR = []\n",
    "for row in df_CMM:\n",
    "    columnCMM.append(float(row))\n",
    "for row in df_WP:\n",
    "    columnWP.append(float(row))\n",
    "for row in df_SR:\n",
    "    columnSR.append(float(row))\n",
    "\n",
    "df_NBA = pd.read_csv('../data/nba_2016_teams.csv', names=['team'])\n",
    "\n",
    "df_NBA.insert(1, 'CMM', columnCMM)\n",
    "df_NBA.insert(2, 'WP', columnWP)\n",
    "df_NBA.insert(3, 'SR', columnSR)\n",
    "display(df_NBA)"
   ]
  },
  {
   "cell_type": "markdown",
   "metadata": {},
   "source": [
    "### Orden por Colley"
   ]
  },
  {
   "cell_type": "code",
   "execution_count": null,
   "metadata": {},
   "outputs": [],
   "source": [
    "df_NBA.sort_values(by=['CMM'], ascending=False, inplace=True)\n",
    "display(df_NBA)"
   ]
  },
  {
   "cell_type": "markdown",
   "metadata": {},
   "source": [
    "### Orden por WP"
   ]
  },
  {
   "cell_type": "code",
   "execution_count": null,
   "metadata": {},
   "outputs": [],
   "source": [
    "df_NBA.sort_values(by=['WP'], ascending=False, inplace=True)\n",
    "display(df_NBA)"
   ]
  },
  {
   "cell_type": "markdown",
   "metadata": {},
   "source": [
    "### Orden por SR"
   ]
  },
  {
   "cell_type": "code",
   "execution_count": null,
   "metadata": {},
   "outputs": [],
   "source": [
    "df_NBA.sort_values(by=['SR'], ascending=False, inplace=True)\n",
    "display(df_NBA)"
   ]
  },
  {
   "cell_type": "code",
   "execution_count": null,
   "metadata": {},
   "outputs": [],
   "source": [
    " df_NBA.sort_values(by=['WP'], ascending=False)['team']\n"
   ]
  },
  {
   "cell_type": "code",
   "execution_count": null,
   "metadata": {},
   "outputs": [],
   "source": [
    "df_NBA_rankings = df_NBA.drop(['team'],axis=1)\n",
    "df_NBA_rankings[\"CMM\"] = df_NBA.sort_values(by=['CMM'], ascending=False)['team'].values\n",
    "df_NBA_rankings[\"WP\"] = df_NBA.sort_values(by=['WP'], ascending=False)['team'].values\n",
    "df_NBA_rankings[\"SR\"] = df_NBA.sort_values(by=['SR'], ascending=False)['team'].values\n",
    "display(df_NBA_rankings)"
   ]
  },
  {
   "cell_type": "markdown",
   "metadata": {},
   "source": [
    "## NFL"
   ]
  },
  {
   "cell_type": "code",
   "execution_count": null,
   "metadata": {},
   "outputs": [],
   "source": [
    "df_CMM = open('nfl/nfl_2019_0.out', 'r').readlines()\n",
    "df_WP = open('nfl/nfl_2019_1.out', 'r').readlines()\n",
    "df_SR = open('nfl/nfl_2019_2.out', 'r').readlines()\n",
    "columnCMM = []\n",
    "columnWP = []\n",
    "columnSR = []\n",
    "for row in df_CMM:\n",
    "    columnCMM.append(float(row))\n",
    "for row in df_WP:\n",
    "    columnWP.append(float(row))\n",
    "for row in df_SR:\n",
    "    columnSR.append(float(row))\n",
    "\n",
    "df_NFL = pd.read_csv('../data/nfl_teams.csv', names=['team'])\n",
    "\n",
    "df_NFL.insert(1, 'CMM', columnCMM)\n",
    "df_NFL.insert(2, 'WP', columnWP)\n",
    "df_NFL.insert(3, 'SR', columnSR)\n",
    "display(df_NFL)"
   ]
  },
  {
   "cell_type": "markdown",
   "metadata": {},
   "source": [
    "### ORDEN POR COLLEY"
   ]
  },
  {
   "cell_type": "code",
   "execution_count": null,
   "metadata": {},
   "outputs": [],
   "source": [
    "df_NFL.sort_values(by=['CMM'], ascending=False, inplace=True)\n",
    "display(df_NFL)"
   ]
  },
  {
   "cell_type": "markdown",
   "metadata": {},
   "source": [
    "### ORDEN POR WP"
   ]
  },
  {
   "cell_type": "code",
   "execution_count": null,
   "metadata": {
    "scrolled": false
   },
   "outputs": [],
   "source": [
    "df_NFL.sort_values(by=['WP'], ascending=False, inplace=True)\n",
    "display(df_NFL)"
   ]
  },
  {
   "cell_type": "markdown",
   "metadata": {},
   "source": [
    "### Orden por SR"
   ]
  },
  {
   "cell_type": "code",
   "execution_count": null,
   "metadata": {},
   "outputs": [],
   "source": [
    "df_NFL.sort_values(by=['SR'], ascending=False, inplace=True)\n",
    "display(df_NFL)"
   ]
  },
  {
   "cell_type": "markdown",
   "metadata": {},
   "source": [
    "### Ranking Results"
   ]
  },
  {
   "cell_type": "code",
   "execution_count": null,
   "metadata": {},
   "outputs": [],
   "source": [
    "df_NFL_rankings = df_NFL.drop(['team'],axis=1)\n",
    "df_NFL_rankings[\"CMM\"] = df_NFL.sort_values(by=['CMM'], ascending=False)['team'].values\n",
    "df_NFL_rankings[\"WP\"] = df_NFL.sort_values(by=['WP'], ascending=False)['team'].values\n",
    "df_NFL_rankings[\"SR\"] = df_NFL.sort_values(by=['SR'], ascending=False)['team'].values\n",
    "display(df_NFL_rankings)"
   ]
  },
  {
   "cell_type": "markdown",
   "metadata": {},
   "source": [
    "## NHL"
   ]
  },
  {
   "cell_type": "code",
   "execution_count": null,
   "metadata": {},
   "outputs": [],
   "source": [
    "df_CMM = open('nhl/nhl_2019_0.out', 'r').readlines()\n",
    "df_WP = open('nhl/nhl_2019_1.out', 'r').readlines()\n",
    "df_SR = open('nhl/nhl_2019_2.out', 'r').readlines()\n",
    "columnCMM = []\n",
    "columnWP = []\n",
    "columnSR = []\n",
    "for row in df_CMM:\n",
    "    columnCMM.append(float(row))\n",
    "for row in df_WP:\n",
    "    columnWP.append(float(row))\n",
    "for row in df_SR:\n",
    "    columnSR.append(float(row))\n",
    "\n",
    "df_NHL = pd.read_csv('../data/nhl_teams.csv', names=['team'])\n",
    "\n",
    "df_NHL.insert(1, 'CMM', columnCMM)\n",
    "df_NHL.insert(2, 'WP', columnWP)\n",
    "df_NHL.insert(3, 'SR', columnSR)\n",
    "display(df_NHL)"
   ]
  },
  {
   "cell_type": "markdown",
   "metadata": {},
   "source": [
    "### Orden por Colley"
   ]
  },
  {
   "cell_type": "code",
   "execution_count": null,
   "metadata": {},
   "outputs": [],
   "source": [
    "df_NHL.sort_values(by=['CMM'], ascending=False, inplace=True)\n",
    "display(df_NHL)"
   ]
  },
  {
   "cell_type": "markdown",
   "metadata": {},
   "source": [
    "### Orden por WP"
   ]
  },
  {
   "cell_type": "code",
   "execution_count": null,
   "metadata": {},
   "outputs": [],
   "source": [
    "df_NHL.sort_values(by=['WP'], ascending=False, inplace=True)\n",
    "display(df_NHL)"
   ]
  },
  {
   "cell_type": "markdown",
   "metadata": {},
   "source": [
    "### Orden por SR"
   ]
  },
  {
   "cell_type": "code",
   "execution_count": null,
   "metadata": {},
   "outputs": [],
   "source": [
    "df_NHL.sort_values(by=['SR'], ascending=False, inplace=True)\n",
    "display(df_NHL)"
   ]
  },
  {
   "cell_type": "markdown",
   "metadata": {},
   "source": [
    "### Ranking Results"
   ]
  },
  {
   "cell_type": "code",
   "execution_count": null,
   "metadata": {},
   "outputs": [],
   "source": [
    "df_NHL_rankings = df_NHL.drop(['team'],axis=1)\n",
    "df_NHL_rankings[\"CMM\"] = df_NHL.sort_values(by=['CMM'], ascending=False)['team'].values\n",
    "df_NHL_rankings[\"WP\"] = df_NHL.sort_values(by=['WP'], ascending=False)['team'].values\n",
    "df_NHL_rankings[\"SR\"] = df_NHL.sort_values(by=['SR'], ascending=False)['team'].values\n",
    "display(df_NHL_rankings)"
   ]
  },
  {
   "cell_type": "markdown",
   "metadata": {},
   "source": [
    "## ATP"
   ]
  },
  {
   "cell_type": "code",
   "execution_count": null,
   "metadata": {},
   "outputs": [],
   "source": [
    "def atp_players_ids(file):\n",
    "    df_ATP = open(file)\n",
    "    set_players = set()\n",
    "    first_row = True\n",
    "    for row in df_ATP:\n",
    "        if (first_row):\n",
    "            first_row = False\n",
    "            continue\n",
    "        set_players.add(int(row[9:15]))\n",
    "        set_players.add(int(row[18:24]))\n",
    "    return set_players\n",
    "\n"
   ]
  },
  {
   "cell_type": "code",
   "execution_count": null,
   "metadata": {
    "tags": []
   },
   "outputs": [],
   "source": [
    "def fetch_atp_players_names_by_id(list_players):\n",
    "    df_players = pd.read_csv(\"../data/atp_players.csv\",\n",
    "                            names=['player_id','first_name','last_name','hand','birth_date','country_code'],header=None)\n",
    "    list_players_name_sorted = []\n",
    "    for id_p in list_players:\n",
    "        player_row = df_players.loc[df_players['player_id'] == id_p]\n",
    "        player_name = player_row.iloc[0]['last_name'] + \" \" + player_row.iloc[0]['first_name']\n",
    "        list_players_name_sorted.append(player_name)\n",
    "    return list_players_name_sorted"
   ]
  },
  {
   "cell_type": "code",
   "execution_count": null,
   "metadata": {
    "tags": []
   },
   "outputs": [],
   "source": [
    "#Busco id de jugadores del dataset\n",
    "set_players = atp_players_ids(\"../data/atp_matches_2015.dat\")\n",
    "#Los ordeno\n",
    "list_players = sorted(set_players)\n",
    "#Busco los IDs en el archivo de players\n",
    "list_players_name_sorted = fetch_atp_players_names_by_id(list_players)\n",
    "\n",
    "df_CMM = open(\"atp/atp_matches_2015_0.out\", 'r').readlines()\n",
    "df_WP  = open(\"atp/atp_matches_2015_1.out\", 'r').readlines()\n",
    "df_SR  = open(\"atp/atp_matches_2015_2.out\", 'r').readlines()\n",
    "columnCMM = []\n",
    "columnWP = []\n",
    "columnSR = []\n",
    "for row in df_CMM:\n",
    "    columnCMM.append(float(row))\n",
    "for row in df_WP:\n",
    "    columnWP.append(float(row))\n",
    "for row in df_SR:\n",
    "    columnSR.append(float(row))\n",
    "\n",
    "df_ATP = pd.DataFrame()\n",
    "\n",
    "df_ATP.insert(0, 'player', list_players_name_sorted)\n",
    "df_ATP.insert(1, 'CMM', columnCMM)\n",
    "df_ATP.insert(2, 'WP', columnWP)\n",
    "df_ATP.insert(3, 'SR', columnSR)\n",
    "display(df_ATP)\n"
   ]
  },
  {
   "cell_type": "code",
   "execution_count": null,
   "metadata": {},
   "outputs": [],
   "source": [
    "df_ATP.sort_values(by=['CMM'], ascending=False, inplace=True)\n",
    "display(df_ATP.head(10))\n",
    "df_ATP.sort_values(by=['WP'], ascending=False, inplace=True)\n",
    "display(df_ATP.head(10))\n",
    "df_ATP.sort_values(by=['SR'], ascending=False, inplace=True)\n",
    "display(df_ATP.head(10))"
   ]
  },
  {
   "cell_type": "code",
   "execution_count": null,
   "metadata": {},
   "outputs": [],
   "source": [
    "df_ATP_rankings = df_ATP.drop(['player'],axis=1)\n",
    "df_ATP_rankings[\"CMM\"] = df_ATP.sort_values(by=['CMM'], ascending=False)['player'].values\n",
    "df_ATP_rankings[\"WP\"] =  df_ATP.sort_values(by=['WP'],  ascending=False)['player'].values\n",
    "df_ATP_rankings[\"SR\"] =  df_ATP.sort_values(by=['SR'],  ascending=False)['player'].values\n",
    "display(df_ATP_rankings)"
   ]
  },
  {
   "cell_type": "code",
   "execution_count": null,
   "metadata": {},
   "outputs": [],
   "source": [
    "display(df_ATP_rankings.head(10))"
   ]
  },
  {
   "source": [
    "### Busco a los Top 3 de SR y WP en el dataset (El chequeo es manual)\n",
    "-   1 | Garay Christian\n",
    "    - ID = 125571\n",
    "    - Jugo solo 2 partidos, ambos partidos los gano\n",
    "\n",
    "-   2 | Ghareeb Mohammad\n",
    "    - ID = 103600\n",
    "    - Jugo solo 3 partidos, gano todos\n",
    "\n",
    "-   3 | Qureshi Aisam Ul Haq\n",
    "    - ID = 103529\n",
    "    - Jugo solo 2 partidos, ambos partidos los gano\n",
    "\n",
    "-   4 | Lama Gonzalo\n",
    "    - ID = 106174\n",
    "    - Jugo solo 2 partidos, ambos partidos los gano\n",
    "    \n",
    "-   5 | Garin Christian\n",
    "    - ID = 106426\n",
    "    - Jugo solo 3 partidos, gano todos"
   ],
   "cell_type": "markdown",
   "metadata": {}
  },
  {
   "source": [
    "#### Experimento extra del analisis cualitativo de ATP"
   ],
   "cell_type": "markdown",
   "metadata": {}
  },
  {
   "cell_type": "code",
   "execution_count": null,
   "metadata": {},
   "outputs": [],
   "source": [
    "#Busco id de jugadores del dataset\n",
    "set_players = atp_players_ids(\"atp/ej_cualitativo/atp_filtered_2015.dat\")\n",
    "#Los ordeno\n",
    "list_players = sorted(set_players)\n",
    "#Busco los IDs en el archivo de players\n",
    "list_players_name_sorted = fetch_atp_players_names_by_id(list_players)\n",
    "\n",
    "df_CMM = open(\"atp/ej_cualitativo/atp_filtered_2015_0.out\", 'r').readlines()\n",
    "df_WP  = open(\"atp/ej_cualitativo/atp_filtered_2015_1.out\", 'r').readlines()\n",
    "df_SR  = open(\"atp/ej_cualitativo/atp_filtered_2015_2.out\", 'r').readlines()\n",
    "columnCMM = []\n",
    "columnWP = []\n",
    "columnSR = []\n",
    "for row in df_CMM:\n",
    "    columnCMM.append(float(row))\n",
    "for row in df_WP:\n",
    "    columnWP.append(float(row))\n",
    "for row in df_SR:\n",
    "    columnSR.append(float(row))\n",
    "\n",
    "df_ATP = pd.DataFrame()\n",
    "\n",
    "df_ATP.insert(0, 'player', list_players_name_sorted)\n",
    "df_ATP.insert(1, 'CMM', columnCMM)\n",
    "df_ATP.insert(2, 'WP', columnWP)\n",
    "df_ATP.insert(3, 'SR', columnSR)\n",
    "display(df_ATP)"
   ]
  },
  {
   "cell_type": "code",
   "execution_count": null,
   "metadata": {},
   "outputs": [],
   "source": [
    "df_ATP_rankings = df_ATP.drop(['player'],axis=1)\n",
    "df_ATP_rankings[\"CMM\"] = df_ATP.sort_values(by=['CMM'], ascending=False)['player'].values\n",
    "df_ATP_rankings[\"WP\"] =  df_ATP.sort_values(by=['WP'],  ascending=False)['player'].values\n",
    "df_ATP_rankings[\"SR\"] =  df_ATP.sort_values(by=['SR'],  ascending=False)['player'].values\n",
    "display(df_ATP_rankings.head(10))"
   ]
  },
  {
   "cell_type": "markdown",
   "metadata": {},
   "source": [
    "## Experimento 1"
   ]
  },
  {
   "cell_type": "code",
   "execution_count": null,
   "metadata": {
    "tags": []
   },
   "outputs": [],
   "source": [
    "df_CMM = open('dataset_adhoc/upset_nba_2016_scores_0.out', 'r').readlines()\n",
    "df_WP = open('dataset_adhoc/upset_nba_2016_scores_1.out', 'r').readlines()\n",
    "df_SR = open('dataset_adhoc/upset_nba_2016_scores_2.out', 'r').readlines()\n",
    "columnCMM = []\n",
    "columnWP = []\n",
    "columnSR = []\n",
    "for row in df_CMM:\n",
    "    columnCMM.append(float(row))\n",
    "for row in df_WP:\n",
    "    columnWP.append(float(row))\n",
    "for row in df_SR:\n",
    "    columnSR.append(float(row))\n",
    "\n",
    "df_NBA_upset = pd.read_csv('../data/nba_2016_teams.csv', names=['team'])\n",
    "\n",
    "df_NBA_upset.insert(1, 'CMM', columnCMM)\n",
    "df_NBA_upset.insert(2, 'WP', columnWP)\n",
    "df_NBA_upset.insert(3, 'SR', columnSR)\n",
    "\n",
    "df_NBA_rankings_upset = df_NBA_rankings\n",
    "df_NBA_rankings_upset[\"CMM_U\"] = df_NBA_upset.sort_values(by=['CMM'], ascending=False)['team'].values\n",
    "df_NBA_rankings_upset[\"WP_U\"] = df_NBA_upset.sort_values(by=['WP'], ascending=False)['team'].values\n",
    "df_NBA_rankings_upset[\"SR_U\"] = df_NBA_upset.sort_values(by=['SR'], ascending=False)['team'].values\n",
    "\n",
    "\n",
    "#display(df_NBA_rankings)\n",
    "display(df_NBA_rankings_upset)\n",
    "\n",
    "df_NBA[\"CMM_U\"] = df_NBA_upset['CMM']\n",
    "df_NBA[\"WP_U\"] = df_NBA_upset['WP']\n",
    "df_NBA[\"SR_U\"] = df_NBA_upset['SR']\n",
    "display(df_NBA)\n"
   ]
  },
  {
   "cell_type": "markdown",
   "metadata": {},
   "source": [
    "## Experimento 2\n"
   ]
  },
  {
   "cell_type": "code",
   "execution_count": null,
   "metadata": {
    "tags": []
   },
   "outputs": [],
   "source": [
    "## Buscamos diferencias en los ratings al alterar el orden\n",
    "def comparar():\n",
    "    flag_diferencias = False\n",
    "    datasets = [\"nba/nba_2016_scores\",\n",
    "                \"nfl/nfl_2019\",\"atp/atp_matches_2015\",\"nhl/nhl_2019\"]\n",
    "    for d in datasets:\n",
    "        for i in range(3):\n",
    "            #comparamos si el resultado es el mismo\n",
    "            dir1=f'{d}_{i}.out'\n",
    "            dir2=f'{d}_reversed_{i}.out'\n",
    "            if (not filecmp.cmp(dir1,dir2,shallow=False) ):\n",
    "                flag_diferencias = True\n",
    "                print(\"Diferencias encontradas en \", dir1)\n",
    "    if(not flag_diferencias):\n",
    "        print(\"No se encontraron diferencias\")\n",
    "\n",
    "comparar()"
   ]
  },
  {
   "cell_type": "markdown",
   "metadata": {},
   "source": [
    "## Experimento 3"
   ]
  },
  {
   "cell_type": "code",
   "execution_count": null,
   "metadata": {},
   "outputs": [],
   "source": [
    "def exp3_chico(nro_met,nombre_met):\n",
    "    df_met =  open(f\"Exp3/out/test_1.dat_{nro_met}.out\", 'r').readlines()\n",
    "    df_met1 = open(f\"Exp3/out/test_1_mod1_{nro_met}.out\", 'r').readlines()\n",
    "    df_met2 = open(f\"Exp3/out/test_1_mod2_{nro_met}.out\", 'r').readlines()\n",
    "    df_met3 = open(f\"Exp3/out/test_1_mod3_{nro_met}.out\", 'r').readlines()\n",
    "    column_met = []\n",
    "    column_met1 = []\n",
    "    column_met2 = []\n",
    "    column_met3 = []\n",
    "    for row in df_met:\n",
    "        column_met.append(float(row))\n",
    "    for row in df_met1:\n",
    "        column_met1.append(float(row))\n",
    "    for row in df_met2:\n",
    "        column_met2.append(float(row))\n",
    "    for row in df_met3:\n",
    "        column_met3.append(float(row))\n",
    "\n",
    "    df_test = pd.DataFrame()\n",
    "    df_test.insert(0,\"Team\",range(1,len(column_met)+1))\n",
    "    df_test.insert(1, f\"{nombre_met}\",  column_met)\n",
    "    df_test.insert(2, f\"{nombre_met}1\", column_met1)\n",
    "    df_test.insert(3, f\"{nombre_met}2\", column_met2)\n",
    "    df_test.insert(4, f\"{nombre_met}3\", column_met3)\n",
    "\n",
    "    display(df_test)"
   ]
  },
  {
   "cell_type": "code",
   "execution_count": null,
   "metadata": {},
   "outputs": [],
   "source": [
    "exp3_chico(\"0\",\"CMM\")\n",
    "exp3_chico(\"1\",\"WP\")\n",
    "exp3_chico(\"2\",\"SR\")"
   ]
  },
  {
   "cell_type": "code",
   "execution_count": null,
   "metadata": {},
   "outputs": [],
   "source": [
    "def exp3_grande(nro_met,nombre_met):\n",
    "    df_met = open(f\"Exp3/out/nfl_2019_{nro_met}.out\", 'r').readlines()\n",
    "    df_met_mod = open(f\"Exp3/out/nfl_2019_mod_{nro_met}.out\", 'r').readlines()\n",
    "    column_met = []\n",
    "    column_met_mod = []\n",
    "    for row in df_met:\n",
    "        column_met.append(float(row))\n",
    "    for row in df_met_mod:\n",
    "        column_met_mod.append(float(row))\n",
    "\n",
    "    df_test = pd.DataFrame()\n",
    "    #df_test_1.insert(0,\"Team\",range(1,len(columnCMM)+1))\n",
    "\n",
    "    df_test = pd.read_csv('../data/nfl_teams.csv', names=['Team'])\n",
    "\n",
    "    df_test.insert(1, f\"{nombre_met}\", column_met)\n",
    "    df_test.insert(2, f\"{nombre_met} mod\", column_met_mod)\n",
    "\n",
    "    df_test.sort_values(by=[f\"{nombre_met}\"], ascending=False, inplace=True)\n",
    "    display(df_test)"
   ]
  },
  {
   "cell_type": "code",
   "execution_count": null,
   "metadata": {},
   "outputs": [],
   "source": [
    "exp3_grande(\"0\",\"CMM\")\n",
    "exp3_grande(\"1\",\"WP\")\n",
    "exp3_grande(\"2\",\"SR\")"
   ]
  },
  {
   "cell_type": "markdown",
   "metadata": {},
   "source": [
    "## Experimento 4\n"
   ]
  },
  {
   "cell_type": "code",
   "execution_count": null,
   "metadata": {},
   "outputs": [],
   "source": [
    "df_tiempos = pd.read_csv('Exp4/resultado_exp4.csv')\n",
    "\n",
    "plt.figure()\n",
    "plt.figure(figsize=(8,6))\n",
    "gr = sns.barplot(x = 'dataset', y = 'tiempo', hue = 'metodo', data = df_tiempos,\n",
    "            palette = 'Blues', edgecolor = 'w', estimator=np.mean)\n",
    "\n",
    "gr.set_title(\"Tiempos de ejecución para los distintos metodos\")\n",
    "gr.set_ylabel(\"tiempo (μs)\")\n",
    "\n",
    "fig = gr.get_figure()\n",
    "name = \"exp4_tiempos\"\n",
    "fig.savefig(f\"graficos/{name}.png\")\n"
   ]
  },
  {
   "cell_type": "code",
   "execution_count": null,
   "metadata": {},
   "outputs": [],
   "source": [
    "df_tiempos = pd.read_csv('Exp4/resultado_exp4.csv')\n",
    "\n",
    "plt.figure()\n",
    "plt.figure(figsize=(8,6))\n",
    "gr = sns.boxplot(x = 'dataset', y = 'tiempo', hue = 'metodo', data = df_tiempos,\n",
    "            palette = 'Blues',)\n",
    "\n",
    "gr.set_title(\"Tiempos de ejecución para los distintos metodos\")\n",
    "gr.set_ylabel(\"tiempo (μs)\")\n",
    "\n",
    "#fig = gr.get_figure()\n",
    "#name = \"exp4_tiempos\"\n",
    "#fig.savefig(f\"graficos/{name}.png\")"
   ]
  },
  {
   "cell_type": "code",
   "execution_count": null,
   "metadata": {},
   "outputs": [],
   "source": [
    "df_tiempos = pd.read_csv('Exp4/resultado_exp4_time_mod.csv')\n",
    "\n",
    "plt.figure()\n",
    "plt.figure(figsize=(8,7))\n",
    "gr = sns.barplot(x = 'dataset', y = 'tiempo', hue = 'metodo', data = df_tiempos,\n",
    "            palette = 'Blues', edgecolor = 'w', estimator=np.mean)\n",
    "\n",
    "gr.set_title(\"Tiempos de ejecución para los distintos metodos (sin carga de datos)\")\n",
    "gr.set_ylabel(\"tiempo (μs)\")\n",
    "\n",
    "#Escala logaritmica\n",
    "gr.set_yscale(\"log\")\n",
    "\n",
    "plt.ylim(top=10**5, bottom=0)\n",
    "\n",
    "fig = gr.get_figure()\n",
    "name = \"exp4_tiempos_time_mod\"\n",
    "fig.savefig(f\"graficos/{name}.png\")"
   ]
  },
  {
   "cell_type": "code",
   "execution_count": null,
   "metadata": {},
   "outputs": [],
   "source": [
    "df_tiempos = pd.read_csv('Exp4/resultado_exp4_time_mod.csv')\n",
    "#df_tiempos = df_tiempos[ df_tiempos['dataset']!='ATP 2015']\n",
    "\n",
    "plt.figure()\n",
    "plt.figure(figsize=(8,7))\n",
    "gr = sns.boxplot(x = 'dataset', y = 'tiempo', hue = 'metodo', data = df_tiempos,\n",
    "            palette = 'Blues', showfliers= False)\n",
    "\n",
    "gr.set_title(\"Tiempos de ejecución para los distintos metodos (sin carga de datos)\")\n",
    "gr.set_ylabel(\"tiempo (μs)\")\n",
    "\n",
    "#Escala logaritmica\n",
    "gr.set_yscale(\"log\")\n",
    "\n",
    "plt.ylim(top=10**5, bottom=0)\n",
    "\n",
    "#fig = gr.get_figure()\n",
    "#name = \"exp4_tiempos_time_mod\"\n",
    "#fig.savefig(f\"graficos/{name}.png\")"
   ]
  },
  {
   "cell_type": "code",
   "execution_count": null,
   "metadata": {},
   "outputs": [],
   "source": []
  }
 ],
 "metadata": {
  "kernelspec": {
   "display_name": "Python 3",
   "language": "python",
   "name": "python3"
  },
  "language_info": {
   "codemirror_mode": {
    "name": "ipython",
    "version": 3
   },
   "file_extension": ".py",
   "mimetype": "text/x-python",
   "name": "python",
   "nbconvert_exporter": "python",
   "pygments_lexer": "ipython3",
   "version": "3.6.9-final"
  }
 },
 "nbformat": 4,
 "nbformat_minor": 2
}